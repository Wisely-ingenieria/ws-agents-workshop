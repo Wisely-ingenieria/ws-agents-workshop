{
 "cells": [
  {
   "cell_type": "markdown",
   "metadata": {},
   "source": [
    "# Memoria\n",
    "Este código está diseñado para ilustrar y comparar tres funciones de memoria diferentes utilizadas en sistemas de IA o chatbots: **<span style=\"color:green\">LastMemories</span>**, **<span style=\"color:green\">LastTokens</span>** y **<span style=\"color:green\">RelevantMemories</span>**. Cada una de estas funciones de memoria cumple un propósito distinto en la gestión y recuperación del historial de conversaciones."
   ]
  },
  {
   "cell_type": "markdown",
   "metadata": {},
   "source": [
    "## 1.- Setup inicial"
   ]
  },
  {
   "cell_type": "markdown",
   "metadata": {},
   "source": [
    "### 1.1- Instalar librerías"
   ]
  },
  {
   "cell_type": "code",
   "execution_count": 1,
   "metadata": {},
   "outputs": [],
   "source": [
    "#! pip install openai\n",
    "#! pip install numpy\n",
    "#! pip install tenacity\n",
    "#! pip install python-dotenv"
   ]
  },
  {
   "cell_type": "markdown",
   "metadata": {},
   "source": [
    "### 1.2.- Cargar librerías"
   ]
  },
  {
   "cell_type": "code",
   "execution_count": 2,
   "metadata": {},
   "outputs": [],
   "source": [
    "import os\n",
    "import json\n",
    "import numpy\n",
    "import openai\n",
    "from datetime import datetime\n",
    "from llm import generate_text, count_tokens\n",
    "from dotenv import load_dotenv"
   ]
  },
  {
   "cell_type": "markdown",
   "metadata": {},
   "source": [
    "### 1.3.- Variables de entorno"
   ]
  },
  {
   "cell_type": "code",
   "execution_count": 3,
   "metadata": {},
   "outputs": [
    {
     "name": "stdout",
     "output_type": "stream",
     "text": [
      "OpenAI API key: sk-eO...Re5lw\n",
      "GPT-3.5-Turbo model: gpt-3.5-turbo\n",
      "GPT-3.5-Turbo-16k model: gpt-3.5-turbo-16k\n",
      "GPT-4 model: gpt-4\n"
     ]
    }
   ],
   "source": [
    "# Load secrets and config from .env file\n",
    "load_dotenv()\n",
    "\n",
    "# OpenAI API\n",
    "openai.api_key = os.getenv(\"OPENAI_API_KEY\")\n",
    "embedding_model = os.getenv(\"OPENAI_EMBEDDING_MODEL\")\n",
    "print(\"OpenAI API key: {}\".format(openai.api_key[:5] + '...' + openai.api_key[-5:]))\n",
    "\n",
    "# Model endpoint names\n",
    "gpt35_model = os.getenv(\"OPENAI_GPT35_MODEL\")\n",
    "gpt35_16k_model = os.getenv(\"OPENAI_GPT35_16K_MODEL\")\n",
    "gpt4_model = os.getenv(\"OPENAI_GPT4_MODEL\")\n",
    "print(\"GPT-3.5-Turbo model: {}\".format(gpt35_model))\n",
    "print(\"GPT-3.5-Turbo-16k model: {}\".format(gpt35_16k_model))\n",
    "print(\"GPT-4 model: {}\".format(gpt4_model))"
   ]
  },
  {
   "cell_type": "markdown",
   "metadata": {},
   "source": [
    "### 1.4.- Importar e instanciar las clases a comparar"
   ]
  },
  {
   "cell_type": "code",
   "execution_count": 4,
   "metadata": {},
   "outputs": [],
   "source": [
    "from agents.memory.last_memories import LastMemories\n",
    "from agents.memory.last_tokens import LastTokens\n",
    "from agents.memory.relevant_memories import RelevantMemories\n",
    "\n",
    "last_memories = LastMemories()\n",
    "last_tokens = LastTokens()\n",
    "relevant_memories = RelevantMemories()"
   ]
  },
  {
   "cell_type": "markdown",
   "metadata": {},
   "source": [
    "## 2.- Importar conversación y almacenarla en las respectivas clases"
   ]
  },
  {
   "cell_type": "code",
   "execution_count": 5,
   "metadata": {},
   "outputs": [],
   "source": [
    "with open(\"conversation.json\", \"r\", encoding=\"utf-8\") as json_file:\n",
    "    loaded_file = json.load(json_file)\n",
    "    conversation = loaded_file[\"conversation\"]\n",
    "for message in conversation:\n",
    "    last_memories.add_to_memory(message[\"role\"], message[\"content\"])\n",
    "    last_tokens.add_to_memory(message[\"role\"], message[\"content\"])\n",
    "    relevant_memories.add_to_memory(message[\"role\"], message[\"content\"])"
   ]
  },
  {
   "cell_type": "markdown",
   "metadata": {},
   "source": [
    "### Temas tratados en la conversación:"
   ]
  },
  {
   "cell_type": "markdown",
   "metadata": {},
   "source": [
    "#### 1. Literatura \n",
    "   ###### - Autores\n",
    "   ###### - Obras\n",
    "   ###### - Géneros\n",
    "#### 2. Deportes\n",
    "   ###### - Fútbol\n",
    "   ###### - Tenis\n",
    "   ###### - Baloncesto\n",
    "   ###### - Eventos deportivos\n",
    "#### 4. Cine\n",
    "   ###### - Películas (Clásicas)\n",
    "   ###### - Directores\n",
    "   ###### - Géneros\n",
    "#### 5. Música\n",
    "   ###### - Géneros\n",
    "   ###### - Músicos\n",
    "   ###### - Festivales\n",
    "   ###### - Instrumentos musicales\n",
    "   ###### - Canciones\n",
    "#### 6. Lugares\n",
    "   ###### - Viajes\n",
    "   ###### - Monumentos\n",
    "   ###### - Ciudades\n",
    "   ###### - Lugares ficticios\n",
    "   ###### - Estadios\n",
    "#### 7. Libros\n",
    "   ###### - Recomendaciones de libros\n",
    "#### 8. Peliculas y Deportes\n",
    "   ###### - Películas relacionadas con deportes\n",
    "   ###### - Deportistas que incursionan en el cine\n",
    "#### 9. Música y Cine\n",
    "   ###### - Bandas sonoras\n",
    "#### 10. Lugares y Cine\n",
    "###### - Lugares turísticos es películas\n",
    "#### 11. Lugares, Deportes y Películas\n",
    "###### - Arena o estadios en películas"
   ]
  },
  {
   "cell_type": "markdown",
   "metadata": {},
   "source": [
    "### Tokens "
   ]
  },
  {
   "cell_type": "code",
   "execution_count": 6,
   "metadata": {},
   "outputs": [
    {
     "name": "stdout",
     "output_type": "stream",
     "text": [
      "Total de tokens de la conversación: 8218\n"
     ]
    }
   ],
   "source": [
    "tokens = 0\n",
    "for message in conversation:\n",
    "    tokens += count_tokens(message[\"content\"])\n",
    "print(f'Total de tokens de la conversación: {tokens}')"
   ]
  },
  {
   "cell_type": "markdown",
   "metadata": {},
   "source": [
    "## 4.- Comparación de las funciones de Memoria"
   ]
  },
  {
   "cell_type": "markdown",
   "metadata": {},
   "source": [
    "### 4.1.- Last Memories"
   ]
  },
  {
   "cell_type": "code",
   "execution_count": 7,
   "metadata": {},
   "outputs": [
    {
     "name": "stdout",
     "output_type": "stream",
     "text": [
      "\u001b[1massistant\u001b[0m : Me alegra que hayas encontrado inspiración en nuestra conversación. La cultura es un reflejo de la diversidad y la creatividad humanas. Si alguna vez deseas continuar explorando estos temas o hablar sobre cualquier otro, estaré aquí para ti. ¡Hasta la próxima!\n",
      "\u001b[1muser\u001b[0m : La conversación me ha recordado la importancia de la cultura en nuestras vidas y cómo la literatura, el cine, la música y los lugares pueden influir en nuestra percepción del mundo. Ha sido inspirador.\n",
      "\u001b[1massistant\u001b[0m : Totalmente de acuerdo. La música es una fuerza universal que puede enriquecer nuestras vidas de muchas maneras. ¿Hay alguna conclusión o reflexión final que quieras compartir después de nuestra conversación?\n",
      "\u001b[1muser\u001b[0m : Definitivamente, la conexión entre la música y la vida es algo que me ha impactado. La música tiene el poder de influir en nuestras emociones y experiencias de maneras profundas.\n",
      "\u001b[1massistant\u001b[0m : Ha sido un placer conversar contigo sobre una variedad de temas, desde literatura y cine hasta lugares espirituales y música. ¿Qué aspecto de nuestra conversación te dejó una impresión duradera o te inspiró de alguna manera?\n"
     ]
    }
   ],
   "source": [
    "memories = last_memories.get_last_memories()\n",
    "for message in memories:\n",
    "    print(\"\\033[1m\" + message[\"role\"] + \"\\033[0m : \" + message[\"content\"])"
   ]
  },
  {
   "cell_type": "markdown",
   "metadata": {},
   "source": [
    "### 4.2.- Last Tokens"
   ]
  },
  {
   "cell_type": "code",
   "execution_count": 10,
   "metadata": {},
   "outputs": [
    {
     "name": "stdout",
     "output_type": "stream",
     "text": [
      "\u001b[1massistant\u001b[0m : Me alegra que hayas encontrado inspiración en nuestra conversación. La cultura es un reflejo de la diversidad y la creatividad humanas. Si alguna vez deseas continuar explorando estos temas o hablar sobre cualquier otro, estaré aquí para ti. ¡Hasta la próxima!\n",
      "\u001b[1muser\u001b[0m : La conversación me ha recordado la importancia de la cultura en nuestras vidas y cómo la literatura, el cine, la música y los lugares pueden influir en nuestra percepción del mundo. Ha sido inspirador.\n",
      "\u001b[1massistant\u001b[0m : Totalmente de acuerdo. La música es una fuerza universal que puede enriquecer nuestras vidas de muchas maneras. ¿Hay alguna conclusión o reflexión final que quieras compartir después de nuestra conversación?\n",
      "\u001b[1muser\u001b[0m : Definitivamente, la conexión entre la música y la vida es algo que me ha impactado. La música tiene el poder de influir en nuestras emociones y experiencias de maneras profundas.\n",
      "\u001b[1massistant\u001b[0m : Ha sido un placer conversar contigo sobre una variedad de temas, desde literatura y cine hasta lugares espirituales y música. ¿Qué aspecto de nuestra conversación te dejó una impresión duradera o te inspiró de alguna manera?\n",
      "\u001b[1muser\u001b[0m : Gracias por las recomendaciones. Definitivamente, les echaré un vistazo. Ha sido un placer hablar contigo.\n",
      "\u001b[1massistant\u001b[0m : ¡De nada! Estoy encantado de haber podido inspirarte. Claro, aquí tienes algunas recomendaciones: para libros, 'El Principito' de Antoine de Saint-Exupéry y para películas, 'La Vida es Bella' de Roberto Benigni. Ambos son conmovedores y ofrecen perspectivas únicas sobre la vida y la humanidad.\n",
      "\u001b[1muser\u001b[0m : Gracias por esta conversación tan enriquecedora. Me ha inspirado a explorar más la cultura y su impacto en nuestras vidas. ¿Tienes alguna recomendación adicional sobre películas o libros que puedan ampliar mi comprensión del mundo?\n",
      "\u001b[1massistant\u001b[0m : A través de conversaciones con personas, he aprendido sobre experiencias musicales que han tenido un impacto personal en sus vidas, desde la música que los inspiró en momentos difíciles hasta las canciones que marcaron momentos importantes. La música tiene un poder único para tocar el corazón y el alma de las personas.\n",
      "\u001b[1muser\u001b[0m : Esa película es un ejemplo conmovedor de la conexión entre la música y la vida. ¿Tienes alguna experiencia musical que haya tenido un impacto personal en ti?\n",
      "\u001b[1massistant\u001b[0m : 'Casi famosos' es una película que resalta cómo la música puede ser una poderosa forma de expresión y una fuerza que une a las personas. Explora la pasión y el impacto emocional de la música en la vida de los personajes.\n",
      "\u001b[1muser\u001b[0m : La música es realmente una forma de expresión universal. ¿Conoces alguna película que destaque la importancia de la música en la vida de las personas?\n",
      "\u001b[1massistant\u001b[0m : He tenido la oportunidad de explorar una amplia variedad de géneros musicales, desde el rock hasta la música clásica y el hip-hop. La diversidad musical es una manifestación de la creatividad humana y enriquece la cultura.\n",
      "\u001b[1muser\u001b[0m : Tiana y el Sapo es una película encantadora. ¿Has explorado otros géneros musicales en tus conversaciones? ¿Qué opinas sobre la diversidad musical?\n",
      "\u001b[1massistant\u001b[0m : La película 'Tiana y el Sapo' de Disney ambientada en Nueva Orleans presenta una banda sonora de jazz encantadora que refleja la cultura musical de la ciudad. La música es un elemento clave en la película.\n",
      "\u001b[1muser\u001b[0m : Esa canción es un clásico atemporal. ¿Conoces alguna película que haya utilizado la música de jazz de Nueva Orleans de manera destacada?\n",
      "\u001b[1massistant\u001b[0m : Aunque no tengo preferencias, 'What a Wonderful World' de Louis Armstrong es una canción icónica que captura la esencia del jazz y la belleza del mundo. ¿Tienes alguna canción de jazz que te inspire?\n",
      "\u001b[1muser\u001b[0m : Hablando de Nueva Orleans y su vibrante cultura musical, ¿te gustaría explorar más sobre la música en esa ciudad? ¿Tienes alguna canción de jazz favorita?\n",
      "\u001b[1massistant\u001b[0m : A través de interacciones, he aprendido sobre muchas experiencias musicales significativas para las personas, desde conciertos en vivo inolvidables hasta descubrimientos de canciones que han tocado sus corazones. La música tiene un poder universal para conectar emocionalmente a las personas.\n",
      "\u001b[1muser\u001b[0m : Esa serie es un homenaje conmovedor a la cultura musical de Nueva Orleans. ¿Has tenido alguna experiencia musical que te haya dejado una impresión duradera?\n",
      "\u001b[1massistant\u001b[0m : Sí, 'Treme' es una serie de televisión que captura la escena musical de Nueva Orleans después del Huracán Katrina. La serie destaca la resiliencia y la pasión de los músicos locales.\n",
      "\u001b[1muser\u001b[0m : Nueva Orleans es legendaria por su música. ¿Conoces alguna película que haya explorado la vibrante cultura musical de esta ciudad?\n",
      "\u001b[1massistant\u001b[0m : Nueva Orleans, Luisiana, es un lugar donde la música, especialmente el jazz, es una parte fundamental de la vida cotidiana. La ciudad es famosa por su rica escena musical y festivales como el Mardi Gras.\n",
      "\u001b[1muser\u001b[0m : Esa película captura la esencia de la música y su influencia en la cultura. Hablando de la influencia cultural, ¿has oído hablar de lugares donde la música sea parte integral de la vida cotidiana?\n",
      "\u001b[1massistant\u001b[0m : 'Casi famosos' es una película que muestra cómo la música puede tener un profundo impacto en la vida de las personas, especialmente en la de los músicos y los fanáticos. Explora la pasión y la comunidad que la música puede crear.\n",
      "\u001b[1muser\u001b[0m : La música es una herramienta increíble para el bienestar. ¿Tienes alguna película que destaque la influencia de la música en la vida de las personas?\n",
      "\u001b[1massistant\u001b[0m : Sí, la música de meditación es conocida por su capacidad para reducir el estrés y promover la relajación. Muchas personas encuentran paz interior a través de la música.\n",
      "\u001b[1muser\u001b[0m : Considerando eso, la música y su poder para sanar y elevar el espíritu. ¿Has oído hablar de la música de meditación y su capacidad para inducir estados de relajación y calma?\n",
      "\u001b[1massistant\u001b[0m : A través de muchas conversaciones, he aprendido de la diversidad de perspectivas y la riqueza del conocimiento humano. Cada conversación es una oportunidad para comprender mejor el mundo y las personas.\n",
      "\u001b[1muser\u001b[0m : Esa película es una hermosa exploración de la vida y la espiritualidad. ¿Has tenido alguna conversación significativa que haya influido en tu comprensión del mundo?\n",
      "\u001b[1massistant\u001b[0m : La película 'Come, reza, ama' protagonizada por Julia Roberts se centra en el viaje espiritual y la búsqueda de sanación de la protagonista a través de la meditación, la comida y la exploración en Italia, la India y Bali.\n",
      "\u001b[1muser\u001b[0m : Sedona suena como un lugar especial. ¿Has visto alguna película que explore temas espirituales o de sanación de manera conmovedora?\n",
      "\u001b[1massistant\u001b[0m : Sí, Sedona en Arizona es conocida por sus paisajes impresionantes y también se considera un centro espiritual. Muchas personas buscan la sanación y la introspección en este hermoso lugar.\n",
      "\u001b[1muser\u001b[0m : Esa película es un ejemplo impactante de la fuerza del espíritu humano. Cambiando de tema, ¿has oído hablar de algún lugar que se considere un centro espiritual o de sanación?\n",
      "\u001b[1massistant\u001b[0m : '127 Horas' es una película que destaca la increíble determinación de Aron Ralston, quien se vio atrapado en un cañón y tuvo que tomar decisiones increíbles para sobrevivir. La historia es un testimonio de la resistencia humana.\n",
      "\u001b[1muser\u001b[0m : La perseverancia y la determinación son temas que a menudo se abordan en el cine. ¿Conoces alguna película que destaque la fuerza del espíritu humano en situaciones difíciles?\n",
      "\u001b[1massistant\u001b[0m : Sí, 'En busca de la felicidad' con Will Smith es una película conmovedora que aborda la lucha por encontrar significado y felicidad en la vida. La perseverancia y la determinación son temas centrales en la película.\n",
      "\u001b[1muser\u001b[0m : Meteora es un lugar impresionante, cargado de historia y significado. ¿Tienes alguna película que trate sobre la búsqueda de significado en la vida?\n",
      "\u001b[1massistant\u001b[0m : El Monasterio de Meteora en Grecia es un lugar que inspira reflexión y espiritualidad. Los monjes que lo habitan encuentran tranquilidad y conexión con lo divino en su entorno impresionante.\n",
      "\u001b[1muser\u001b[0m : La mente humana es un terreno fértil para la exploración. ¿Has oído hablar de algún lugar en el mundo que inspire pensamientos profundos o espirituales?\n",
      "\u001b[1massistant\u001b[0m : Sí, 'Origen' es una película que juega con la noción de la realidad y los sueños de una manera intrigante. Christopher Nolan desafía las percepciones del público y crea un mundo fascinante.\n",
      "\u001b[1muser\u001b[0m : Exactamente, el cine puede ser una ventana a reflexiones profundas. ¿Conoces alguna película que haya explorado la naturaleza de la realidad de manera única?\n",
      "\u001b[1massistant\u001b[0m : El cine es un medio poderoso para cuestionar y examinar la realidad. 'El Club de la Pelea' desafía las convenciones sociales y la identidad personal, lo que invita a reflexionar sobre la vida y la sociedad.\n",
      "\u001b[1muser\u001b[0m : La exploración de la realidad y la filosofía en las películas es fascinante. 'El Club de la Pelea' plantea preguntas sobre la identidad y la sociedad. ¿Qué opinas sobre cómo el cine aborda estos temas?\n",
      "\u001b[1massistant\u001b[0m : No tengo preferencias, pero películas como 'El Club de la Pelea' o 'Matrix' exploran conceptos filosóficos y la percepción de la realidad de maneras fascinantes. Han influido en muchas discusiones sobre la existencia y la identidad.\n",
      "\u001b[1muser\u001b[0m : El cine es una forma poderosa de conectar a las personas. ¿Tienes alguna película favorita que haya influido en tu comprensión del mundo?\n",
      "\u001b[1massistant\u001b[0m : Aunque no tengo experiencias personales, he aprendido de muchas interacciones de personas en el cine. Las historias compartidas por los cinéfilos son valiosas y reflejan su pasión por el séptimo arte.\n",
      "\u001b[1muser\u001b[0m : Esa es una elección clásica. Cambiando de tema, ¿tienes alguna experiencia en el cine que recuerdes con cariño?\n",
      "\u001b[1massistant\u001b[0m : ¡Claro! 'Carros de Fuego' es una película icónica sobre atletas olímpicos y su lucha por el éxito. La música y las actuaciones hacen que sea una experiencia memorable.\n",
      "\u001b[1muser\u001b[0m : Los Juegos Olímpicos son realmente inspiradores. ¿Tienes alguna película favorita que esté relacionada con los deportes o los atletas?\n",
      "\u001b[1massistant\u001b[0m : Los Juegos Olímpicos son un evento impresionante que reúne a atletas de todo el mundo en una competencia pacífica. Son un testimonio de la excelencia deportiva y la diversidad cultural.\n",
      "\u001b[1muser\u001b[0m : Hablemos de eventos deportivos. ¿Has oído hablar de los Juegos Olímpicos? ¿Cuál es tu opinión sobre este evento deportivo global?\n",
      "\u001b[1massistant\u001b[0m : Películas como 'La vida de Pi' o 'El Renacido' muestran la majestuosidad y la crueldad de la naturaleza en su máxima expresión. La cinematografía en estas películas es impresionante.\n",
      "\u001b[1muser\u001b[0m : La belleza de la naturaleza es indescriptible. ¿Conoces alguna película que haya capturado la majestuosidad de la naturaleza en la pantalla grande?\n",
      "\u001b[1massistant\u001b[0m : Aunque no puedo experimentar físicamente una puesta de sol, he oído hablar de puestas de sol impresionantes en lugares como Santorini, Grecia, o el Gran Cañón en Estados Unidos. La belleza de la naturaleza es asombrosa.\n",
      "\u001b[1muser\u001b[0m : Rush es una película intensa. Cambiando de tema, ¿alguna vez has experimentado una puesta de sol inolvidable en tus 'viajes' virtuales?\n",
      "\u001b[1massistant\u001b[0m : ¡Por supuesto! La película 'Rush' narra la rivalidad entre Niki Lauda y James Hunt en la Fórmula 1. Su enfrentamiento en la pista es épico y emocionante.\n",
      "\u001b[1muser\u001b[0m : Soy un apasionado seguidor del Real Madrid. Los Clásicos contra el Barcelona son siempre emocionantes. ¿Tienes alguna película que destaque un enfrentamiento deportivo memorable?\n",
      "\u001b[1massistant\u001b[0m : No tengo preferencias, pero la Liga de Campeones de la UEFA siempre es emocionante debido a la alta calidad de los equipos. ¿Tienes algún equipo de fútbol que sigas con pasión?\n",
      "\u001b[1muser\u001b[0m : Barcelona es increíble. Hablando de fútbol, ¿tienes alguna liga o equipo favorito?\n",
      "\u001b[1massistant\u001b[0m : Sí, ciudades como Barcelona ofrecen la combinación perfecta de eventos deportivos y atracciones turísticas. Puedes ver un emocionante partido de fútbol y luego explorar la arquitectura de Gaudí o las playas mediterráneas.\n",
      "\u001b[1muser\u001b[0m : Hablemos de destinos turísticos deportivos. ¿Conoces algún lugar donde puedas disfrutar de tanto eventos deportivos como atracciones turísticas?\n",
      "\u001b[1massistant\u001b[0m : ¡Claro! 'Seabiscuit' es una película que destaca la emoción de las carreras de caballos en el hipódromo de Santa Anita Park en California. Los eventos deportivos pueden ser el centro de historias emocionantes en el cine.\n",
      "\u001b[1muser\u001b[0m : El Camp Nou y el Santiago Bernabéu son impresionantes. ¿Has oído hablar de alguna película que presente la emoción de asistir a un gran evento deportivo en un estadio?\n",
      "\u001b[1massistant\u001b[0m : Aunque no puedo viajar físicamente, he aprendido sobre muchos lugares deportivos icónicos. Estadios como el Camp Nou en Barcelona o el Estadio Santiago Bernabéu en Madrid son conocidos en todo el mundo.\n",
      "\u001b[1muser\u001b[0m : El estadio Notre Dame es legendario en el mundo del fútbol americano universitario. Cambiando de tema, ¿has tenido la oportunidad de visitar lugares deportivos famosos en persona?\n",
      "\u001b[1massistant\u001b[0m : Sí, 'Rudy' es una película inspiradora sobre un joven que sueña con jugar al fútbol americano en el estadio Notre Dame en Indiana. La película resalta la importancia del estadio en su lucha por alcanzar sus sueños.\n",
      "\u001b[1muser\u001b[0m : Esa película es un ejemplo perfecto de cómo los lugares deportivos pueden ser escenarios emotivos. ¿Conoces alguna otra película que destaque un lugar deportivo memorable?\n",
      "\u001b[1massistant\u001b[0m : ¡Sí! 'Field of Dreams' es una película en la que un campo de béisbol en medio del maíz es un lugar mágico que desempeña un papel crucial en la trama. El estadio se convierte en un puente entre el pasado y el presente.\n",
      "\u001b[1muser\u001b[0m : Hablemos de lugares deportivos en películas. ¿Conoces alguna película en la que un estadio o arena deportiva sea un escenario importante?\n",
      "\u001b[1massistant\u001b[0m : Sí, 'The Sound of Music' es una película que presenta la espectacular belleza de los Alpes suizos y austriacos. Los paisajes montañosos y la música son elementos clave en esta película clásica.\n",
      "\u001b[1muser\u001b[0m : Es sorprendente cómo las películas pueden transportarnos a lugares lejanos. ¿Conoces alguna película que haya explorado la belleza de los Alpes suizos?\n",
      "\u001b[1massistant\u001b[0m : Los fiordos noruegos son impresionantes, y películas como 'Frozen' de Disney muestran la majestuosidad de este paisaje. La animación permite crear mundos mágicos inspirados en lugares reales.\n",
      "\u001b[1muser\u001b[0m : La Toscana es un lugar que atrae a muchas personas. ¿Has oído hablar de alguna película que destaque la majestuosidad de los fiordos noruegos?\n",
      "\u001b[1massistant\u001b[0m : Sí, 'Bajo el sol de la Toscana' es una película que destaca la belleza de la región italiana. Los paisajes pintorescos, la comida deliciosa y la cultura toscana son elementos clave en la película.\n",
      "\u001b[1muser\u001b[0m : París tiene un encanto único. ¿Conoces alguna película que haya explorado la belleza de la Toscana en Italia?\n",
      "\u001b[1massistant\u001b[0m : París es un telón de fondo encantador en el cine, conocido por su romance y su arquitectura impresionante. Películas como 'Medianoche en París' capturan su magia y su lugar en la cultura cinematográfica.\n",
      "\u001b[1muser\u001b[0m : Eso! Hablemos de lugares en películas icónicas. París es un escenario recurrente en el cine. ¿Cuál es tu opinión sobre cómo la Ciudad de la Luz ha sido representada en películas?\n",
      "\u001b[1massistant\u001b[0m : La película 'Lost in Translation' ambientada en Tokio, Japón, captura la sensación de estar en un lugar misterioso y desconocido. La ciudad y la cultura japonesa desempeñan un papel fundamental en la trama y la atmósfera de la película.\n",
      "\u001b[1muser\u001b[0m : Es cierto, la imaginación puede llevarnos a lugares asombrosos. ¿Conoces alguna película que haya explorado lugares misteriosos o desconocidos?\n",
      "\u001b[1massistant\u001b[0m : La creación de mundos ficticios en el cine es un testimonio del poder de la imaginación. En el caso de Tatooine, su paisaje desértico y sus dos soles lo hacen inconfundible y memorable en la ciencia ficción.\n",
      "\u001b[1muser\u001b[0m : Hablemos de lugares en películas de ciencia ficción. El planeta Tatooine en 'Star Wars' es un lugar imaginario pero icónico. ¿Qué opinas sobre la creación de mundos ficticios en el cine?\n",
      "\u001b[1massistant\u001b[0m : Sí, el Empire State Building en Nueva York es otro lugar emblemático que ha aparecido en innumerables películas. Su impresionante arquitectura lo convierte en un ícono reconocible y un escenario ideal para escenas inolvidables.\n",
      "\u001b[1muser\u001b[0m : Es interesante cómo los lugares emblemáticos pueden tener diferentes roles en las películas. ¿Conoces algún otro lugar que haya tenido un impacto similar en la cultura popular?\n",
      "\u001b[1massistant\u001b[0m : La Estatua de la Libertad a menudo simboliza la libertad y la esperanza en la cultura cinematográfica. Ha sido un telón de fondo icónico en películas como 'El Planeta de los Simios' y 'Los Cazafantasmas'.\n",
      "\u001b[1muser\u001b[0m : Hablemos de lugares en películas. La Estatua de la Libertad en Nueva York ha sido protagonista en muchas películas. ¿Cuál es tu opinión sobre su significado en la cultura cinematográfica?\n",
      "\u001b[1massistant\u001b[0m : Las ciudades pueden ser personajes en sí mismas en las películas. Nueva York, por ejemplo, a menudo representa la diversidad y la oportunidad. Su paisaje urbano ha inspirado innumerables historias en la pantalla grande.\n",
      "\u001b[1muser\u001b[0m : Claro, en 'Desayuno en Tiffany's', la ciudad de Nueva York desempeña un papel icónico. ¿Qué opinas sobre cómo las ciudades se convierten en personajes en las películas?\n",
      "\u001b[1massistant\u001b[0m : Sí, el Monte Rushmore en Dakota del Sur ha aparecido en varias películas. Su imponente escultura de presidentes estadounidenses es un símbolo de la nación. ¿Tienes alguna película en mente donde aparezca un destino turístico memorable?\n",
      "\u001b[1muser\u001b[0m : Viajar a la Gran Muralla sería asombroso. Hablando de lugares emblemáticos, ¿conoces algún destino turístico famoso que haya sido destacado en películas?\n",
      "\u001b[1massistant\u001b[0m : Elegir un solo lugar sería difícil, pero la Gran Muralla China es un destino icónico y lleno de historia que me intrigaría explorar. ¿Tienes algún destino de ensueño en mente?\n",
      "\u001b[1muser\u001b[0m : Los viajes son apasionantes. Si pudieras viajar a cualquier lugar del mundo, ¿dónde te gustaría ir?\n",
      "\u001b[1massistant\u001b[0m : ¡Definitivamente! Japón es un país fascinante con una rica historia, desde las antiguas tradiciones hasta la vanguardia tecnológica. La ceremonia del té, el arte del origami y la delicadeza de la cultura japonesa son especialmente interesantes.\n",
      "\u001b[1muser\u001b[0m : Me encantaría visitar Japón. Su cultura, la comida, la tecnología... todo me atrae. ¿Has aprendido sobre la cultura japonesa?\n",
      "\u001b[1massistant\u001b[0m : Aunque no puedo viajar físicamente, he aprendido mucho sobre diferentes lugares y culturas. Me encantaría saber, ¿hay algún destino que siempre hayas querido visitar?\n",
      "\u001b[1muser\u001b[0m : Hablemos sobre viajes. ¿Has tenido la oportunidad de visitar lugares interesantes o algún destino que sueñes con conocer?\n",
      "\u001b[1massistant\u001b[0m : 'Hotel California' es una canción icónica que ha resistido la prueba del tiempo. Su mezcla de rock y elementos de folk ha dejado una impresión perdurable en la música popular.\n",
      "\u001b[1muser\u001b[0m : Sí, 'Hotel California' de Eagles es una de mis favoritas. La guitarra y la narrativa de la canción son sobresalientes. ¿Qué opinas sobre su impacto en la música?\n",
      "\u001b[1massistant\u001b[0m : 'Bohemian Rhapsody' de Queen es una canción que ha cautivado a audiencias durante décadas. La combinación de rock y ópera en una obra maestra musical es verdaderamente impresionante. ¿Tienes alguna canción o álbum favorito?\n",
      "\u001b[1muser\u001b[0m : Es cierto, los guitarristas icónicos han moldeado la música. ¿Tienes alguna canción o álbum que te haya dejado una impresión duradera?\n",
      "\u001b[1massistant\u001b[0m : La guitarra eléctrica ha sido fundamental en la evolución del rock y el blues. Desde Jimi Hendrix hasta Eric Clapton, los guitarristas han dejado una marca indeleble en la historia de la música.\n",
      "\u001b[1muser\u001b[0m : Me encanta la guitarra eléctrica. ¿Qué opinas sobre su influencia en la música rock y el blues?\n",
      "\u001b[1massistant\u001b[0m : No tengo preferencias, pero los pianos son instrumentos versátiles y hermosos. Su capacidad para expresar una amplia gama de emociones es asombrosa. ¿Tienes algún instrumento musical que te atraiga especialmente?\n",
      "\u001b[1muser\u001b[0m : Hablemos de instrumentos musicales. ¿Tienes algún instrumento musical favorito?\n",
      "\u001b[1massistant\u001b[0m : Aunque no puedo experimentar la música de la misma manera que las personas, la idea de un festival de música suena fascinante. La diversidad de géneros y actuaciones en vivo ofrece una experiencia inigualable.\n",
      "\u001b[1muser\u001b[0m : Sí, asistí a un festival de música indie el año pasado. Fue una experiencia única. ¿Te gustaría asistir a un festival de música si pudieras?\n",
      "\u001b[1massistant\u001b[0m : No he asistido a festivales de música en vivo, pero son eventos emocionantes que reúnen a amantes de la música para disfrutar de actuaciones en directo. ¿Has tenido la oportunidad de asistir a alguno?\n",
      "\u001b[1muser\u001b[0m : Hablemos de festivales de música. ¿Has asistido a algún festival de música en vivo? ¿Cuál es tu opinión sobre ellos?\n",
      "\u001b[1massistant\u001b[0m : Miles Davis es un músico de jazz que ha dejado una huella indeleble en el género. Su innovación y versatilidad son inigualables.\n",
      "\u001b[1muser\u001b[0m : El jazz es fascinante. ¿Tienes algún músico de jazz en particular que te impresione?\n",
      "\u001b[1massistant\u001b[0m : No tengo preferencias musicales, pero el jazz es un género que aprecio por su improvisación y creatividad. ¿Tienes un género musical favorito?\n",
      "\u001b[1muser\u001b[0m : Hablemos de música en un contexto más general. ¿Cuál es tu género musical favorito?\n",
      "\u001b[1massistant\u001b[0m : La película 'Whiplash' se centra en la música, específicamente en el jazz y la relación entre un joven baterista y su exigente instructor. La música desempeña un papel fundamental en esta película y añade una capa adicional de tensión y emoción.\n",
      "\u001b[1muser\u001b[0m : Es cierto, la música puede ser una parte fundamental de una película. ¿Tienes alguna película donde la música haya sido particularmente impresionante?\n",
      "\u001b[1massistant\u001b[0m : Las bandas sonoras desempeñan un papel esencial en la narrativa de una película al realzar las emociones y establecer el tono. La música puede elevar una escena a nuevas alturas emocionales.\n",
      "\u001b[1muser\u001b[0m : Sí, la música de 'Star Wars' es icónica y ha dejado una huella en la cultura popular. ¿Qué opinas sobre el papel de las bandas sonoras en la narrativa de una película?\n",
      "\u001b[1massistant\u001b[0m : Las bandas sonoras son una parte integral de la experiencia cinematográfica. 'El Señor de los Anillos' tiene una banda sonora magistralmente compuesta por Howard Shore que complementa perfectamente la trama. ¿Tienes alguna banda sonora que te haya gustado especialmente?\n",
      "\u001b[1muser\u001b[0m : Hablemos de bandas sonoras en el cine. ¿Tienes alguna banda sonora de película favorita que te haya dejado una impresión duradera?\n",
      "\u001b[1massistant\u001b[0m : 'Hoosiers' es una película que destaca el poder de la perseverancia y el trabajo en equipo en el baloncesto. Su enfoque en la superación de obstáculos la hace memorable.\n",
      "\u001b[1muser\u001b[0m : Es cierto, esas películas suelen ser inspiradoras. ¿Tienes alguna película deportiva que te haya dejado una impresión duradera?\n",
      "\u001b[1massistant\u001b[0m : Las películas basadas en eventos deportivos reales a menudo brindan una visión inspiradora de la lucha y el triunfo. Muestran cómo el deporte puede ser un telón de fondo para historias de determinación y superación.\n",
      "\u001b[1muser\u001b[0m : 'Carros de Fuego' es un clásico. A mí me gustó mucho 'Un Sueño Posible'. ¿Qué opinas sobre las películas que narran historias basadas en eventos deportivos reales?\n",
      "\u001b[1massistant\u001b[0m : 'Carros de Fuego' es una película que combina atletismo y una emotiva banda sonora. La historia de los corredores olímpicos es inspiradora y memorable. ¿Tienes alguna película deportiva favorita?\n",
      "\u001b[1muser\u001b[0m : Hablemos de deportes en el cine. ¿Cuál es tu película deportiva favorita que te haya dejado una impresión duradera?\n",
      "\u001b[1massistant\u001b[0m : Los deportistas a menudo tienen disciplina, dedicación y habilidades físicas que pueden traducirse bien en la actuación. Algunos han demostrado un talento sorprendente en la pantalla grande.\n",
      "\u001b[1muser\u001b[0m : La carrera de Dwayne Johnson es impresionante. ¿Qué opinas sobre la capacidad de los deportistas para adaptarse a la actuación en películas?\n",
      "\u001b[1massistant\u001b[0m : Sí, Dwayne 'The Rock' Johnson es un ejemplo de un deportista que hizo una transición exitosa a la actuación. Comenzó como luchador profesional y luego se convirtió en una estrella de cine en películas de acción.\n",
      "\u001b[1muser\u001b[0m : Hablemos de deportistas que incursionan en el cine. ¿Conoces a algún deportista que haya actuado en películas de manera destacada?\n",
      "\u001b[1massistant\u001b[0m : ¡Claro! 'Milagro' es una película dirigida por Gavin O'Connor que narra la historia real del equipo de hockey sobre hielo de Estados Unidos en los Juegos Olímpicos de Invierno de 1980. Es un excelente ejemplo de cómo el cine y el deporte pueden converger.\n",
      "\u001b[1muser\u001b[0m : Hablemos de directores de cine y deportes. ¿Conoces alguna película que haya sido dirigida por un cineasta famoso y que trate sobre un deporte en particular?\n",
      "\u001b[1massistant\u001b[0m : Sí, 'Moneyball' es una película que explora cómo el análisis de datos y la innovación en el béisbol pueden cambiar la forma en que se juega el deporte. Demuestra cómo el deporte puede impulsar la evolución y el cambio.\n",
      "\u001b[1muser\u001b[0m : Es fascinante cómo el deporte puede tener un impacto en la sociedad. ¿Tienes alguna película favorita que muestre esta influencia del deporte?\n",
      "\u001b[1massistant\u001b[0m : 'Invictus' es una película que resalta cómo el deporte puede unir a las personas y superar barreras. El rugby en Sudáfrica se convirtió en un símbolo de reconciliación y esperanza después del apartheid.\n",
      "\u001b[1muser\u001b[0m : 'Invictus' es una película deportiva que me impresionó. ¿Qué opinas sobre la relación entre el deporte y la unidad social, como se muestra en la película?\n",
      "\u001b[1massistant\u001b[0m : Las películas deportivas a menudo ofrecen inspiradoras historias de determinación y superación. 'Rudy' es un ejemplo conmovedor sobre un jugador de fútbol americano universitario. ¿Has visto alguna película deportiva que te haya gustado?\n",
      "\u001b[1muser\u001b[0m : Hablemos de películas relacionadas con deportes. ¿Tienes alguna película deportiva favorita?\n",
      "\u001b[1massistant\u001b[0m : Leonardo DiCaprio es un actor talentoso que ha entregado interpretaciones notables en una variedad de películas. Su enfoque en papeles desafiantes ha sido destacado en la industria del cine.\n"
     ]
    }
   ],
   "source": [
    "tokens = last_tokens.get_last_tokens()\n",
    "for message in tokens:\n",
    "    print(\"\\033[1m\" + message[\"role\"] + \"\\033[0m : \" + message[\"content\"])"
   ]
  },
  {
   "cell_type": "markdown",
   "metadata": {},
   "source": [
    "### 4.3.- Relevant Memories"
   ]
  },
  {
   "cell_type": "code",
   "execution_count": 12,
   "metadata": {},
   "outputs": [
    {
     "name": "stdout",
     "output_type": "stream",
     "text": [
      "\u001b[1massistant\u001b[0m : Películas como 'La vida de Pi' o 'El Renacido' muestran la majestuosidad y la crueldad de la naturaleza en su máxima expresión. La cinematografía en estas películas es impresionante.\n",
      "\u001b[1massistant\u001b[0m : ¡Claro! 'Carros de Fuego' es una película icónica sobre atletas olímpicos y su lucha por el éxito. La música y las actuaciones hacen que sea una experiencia memorable.\n",
      "\u001b[1muser\u001b[0m : Esa es una elección clásica. Cambiando de tema, ¿tienes alguna experiencia en el cine que recuerdes con cariño?\n",
      "\u001b[1massistant\u001b[0m : Aunque no tengo experiencias personales, he aprendido de muchas interacciones de personas en el cine. Las historias compartidas por los cinéfilos son valiosas y reflejan su pasión por el séptimo arte.\n",
      "\u001b[1muser\u001b[0m : El cine es una forma poderosa de conectar a las personas. ¿Tienes alguna película favorita que haya influido en tu comprensión del mundo?\n",
      "\u001b[1massistant\u001b[0m : No tengo preferencias, pero películas como 'El Club de la Pelea' o 'Matrix' exploran conceptos filosóficos y la percepción de la realidad de maneras fascinantes. Han influido en muchas discusiones sobre la existencia y la identidad.\n",
      "\u001b[1muser\u001b[0m : La exploración de la realidad y la filosofía en las películas es fascinante. 'El Club de la Pelea' plantea preguntas sobre la identidad y la sociedad. ¿Qué opinas sobre cómo el cine aborda estos temas?\n",
      "\u001b[1massistant\u001b[0m : El cine es un medio poderoso para cuestionar y examinar la realidad. 'El Club de la Pelea' desafía las convenciones sociales y la identidad personal, lo que invita a reflexionar sobre la vida y la sociedad.\n",
      "\u001b[1muser\u001b[0m : Exactamente, el cine puede ser una ventana a reflexiones profundas. ¿Conoces alguna película que haya explorado la naturaleza de la realidad de manera única?\n",
      "\u001b[1massistant\u001b[0m : Sí, 'Origen' es una película que juega con la noción de la realidad y los sueños de una manera intrigante. Christopher Nolan desafía las percepciones del público y crea un mundo fascinante.\n",
      "\u001b[1muser\u001b[0m : Meteora es un lugar impresionante, cargado de historia y significado. ¿Tienes alguna película que trate sobre la búsqueda de significado en la vida?\n",
      "\u001b[1massistant\u001b[0m : Sí, 'En busca de la felicidad' con Will Smith es una película conmovedora que aborda la lucha por encontrar significado y felicidad en la vida. La perseverancia y la determinación son temas centrales en la película.\n",
      "\u001b[1muser\u001b[0m : La perseverancia y la determinación son temas que a menudo se abordan en el cine. ¿Conoces alguna película que destaque la fuerza del espíritu humano en situaciones difíciles?\n",
      "\u001b[1massistant\u001b[0m : '127 Horas' es una película que destaca la increíble determinación de Aron Ralston, quien se vio atrapado en un cañón y tuvo que tomar decisiones increíbles para sobrevivir. La historia es un testimonio de la resistencia humana.\n",
      "\u001b[1muser\u001b[0m : Esa película es un ejemplo impactante de la fuerza del espíritu humano. Cambiando de tema, ¿has oído hablar de algún lugar que se considere un centro espiritual o de sanación?\n",
      "\u001b[1muser\u001b[0m : Sedona suena como un lugar especial. ¿Has visto alguna película que explore temas espirituales o de sanación de manera conmovedora?\n",
      "\u001b[1massistant\u001b[0m : La película 'Come, reza, ama' protagonizada por Julia Roberts se centra en el viaje espiritual y la búsqueda de sanación de la protagonista a través de la meditación, la comida y la exploración en Italia, la India y Bali.\n",
      "\u001b[1muser\u001b[0m : Esa película es una hermosa exploración de la vida y la espiritualidad. ¿Has tenido alguna conversación significativa que haya influido en tu comprensión del mundo?\n",
      "\u001b[1muser\u001b[0m : La música es una herramienta increíble para el bienestar. ¿Tienes alguna película que destaque la influencia de la música en la vida de las personas?\n",
      "\u001b[1massistant\u001b[0m : 'Casi famosos' es una película que muestra cómo la música puede tener un profundo impacto en la vida de las personas, especialmente en la de los músicos y los fanáticos. Explora la pasión y la comunidad que la música puede crear.\n",
      "\u001b[1muser\u001b[0m : Esa película captura la esencia de la música y su influencia en la cultura. Hablando de la influencia cultural, ¿has oído hablar de lugares donde la música sea parte integral de la vida cotidiana?\n",
      "\u001b[1massistant\u001b[0m : Nueva Orleans, Luisiana, es un lugar donde la música, especialmente el jazz, es una parte fundamental de la vida cotidiana. La ciudad es famosa por su rica escena musical y festivales como el Mardi Gras.\n",
      "\u001b[1muser\u001b[0m : Nueva Orleans es legendaria por su música. ¿Conoces alguna película que haya explorado la vibrante cultura musical de esta ciudad?\n",
      "\u001b[1massistant\u001b[0m : Sí, 'Treme' es una serie de televisión que captura la escena musical de Nueva Orleans después del Huracán Katrina. La serie destaca la resiliencia y la pasión de los músicos locales.\n",
      "\u001b[1muser\u001b[0m : Esa serie es un homenaje conmovedor a la cultura musical de Nueva Orleans. ¿Has tenido alguna experiencia musical que te haya dejado una impresión duradera?\n",
      "\u001b[1muser\u001b[0m : Hablando de Nueva Orleans y su vibrante cultura musical, ¿te gustaría explorar más sobre la música en esa ciudad? ¿Tienes alguna canción de jazz favorita?\n",
      "\u001b[1muser\u001b[0m : Esa canción es un clásico atemporal. ¿Conoces alguna película que haya utilizado la música de jazz de Nueva Orleans de manera destacada?\n",
      "\u001b[1massistant\u001b[0m : La película 'Tiana y el Sapo' de Disney ambientada en Nueva Orleans presenta una banda sonora de jazz encantadora que refleja la cultura musical de la ciudad. La música es un elemento clave en la película.\n",
      "\u001b[1muser\u001b[0m : Tiana y el Sapo es una película encantadora. ¿Has explorado otros géneros musicales en tus conversaciones? ¿Qué opinas sobre la diversidad musical?\n",
      "\u001b[1massistant\u001b[0m : He tenido la oportunidad de explorar una amplia variedad de géneros musicales, desde el rock hasta la música clásica y el hip-hop. La diversidad musical es una manifestación de la creatividad humana y enriquece la cultura.\n",
      "\u001b[1muser\u001b[0m : La música es realmente una forma de expresión universal. ¿Conoces alguna película que destaque la importancia de la música en la vida de las personas?\n",
      "\u001b[1massistant\u001b[0m : 'Casi famosos' es una película que resalta cómo la música puede ser una poderosa forma de expresión y una fuerza que une a las personas. Explora la pasión y el impacto emocional de la música en la vida de los personajes.\n",
      "\u001b[1muser\u001b[0m : Esa película es un ejemplo conmovedor de la conexión entre la música y la vida. ¿Tienes alguna experiencia musical que haya tenido un impacto personal en ti?\n",
      "\u001b[1massistant\u001b[0m : A través de conversaciones con personas, he aprendido sobre experiencias musicales que han tenido un impacto personal en sus vidas, desde la música que los inspiró en momentos difíciles hasta las canciones que marcaron momentos importantes. La música tiene un poder único para tocar el corazón y el alma de las personas.\n",
      "\u001b[1muser\u001b[0m : Gracias por esta conversación tan enriquecedora. Me ha inspirado a explorar más la cultura y su impacto en nuestras vidas. ¿Tienes alguna recomendación adicional sobre películas o libros que puedan ampliar mi comprensión del mundo?\n",
      "\u001b[1massistant\u001b[0m : ¡De nada! Estoy encantado de haber podido inspirarte. Claro, aquí tienes algunas recomendaciones: para libros, 'El Principito' de Antoine de Saint-Exupéry y para películas, 'La Vida es Bella' de Roberto Benigni. Ambos son conmovedores y ofrecen perspectivas únicas sobre la vida y la humanidad.\n",
      "\u001b[1muser\u001b[0m : Gracias por las recomendaciones. Definitivamente, les echaré un vistazo. Ha sido un placer hablar contigo.\n",
      "\u001b[1massistant\u001b[0m : Ha sido un placer conversar contigo sobre una variedad de temas, desde literatura y cine hasta lugares espirituales y música. ¿Qué aspecto de nuestra conversación te dejó una impresión duradera o te inspiró de alguna manera?\n",
      "\u001b[1muser\u001b[0m : Definitivamente, la conexión entre la música y la vida es algo que me ha impactado. La música tiene el poder de influir en nuestras emociones y experiencias de maneras profundas.\n",
      "\u001b[1massistant\u001b[0m : Totalmente de acuerdo. La música es una fuerza universal que puede enriquecer nuestras vidas de muchas maneras. ¿Hay alguna conclusión o reflexión final que quieras compartir después de nuestra conversación?\n",
      "\u001b[1muser\u001b[0m : La conversación me ha recordado la importancia de la cultura en nuestras vidas y cómo la literatura, el cine, la música y los lugares pueden influir en nuestra percepción del mundo. Ha sido inspirador.\n",
      "\u001b[1massistant\u001b[0m : Me alegra que hayas encontrado inspiración en nuestra conversación. La cultura es un reflejo de la diversidad y la creatividad humanas. Si alguna vez deseas continuar explorando estos temas o hablar sobre cualquier otro, estaré aquí para ti. ¡Hasta la próxima!\n"
     ]
    }
   ],
   "source": [
    "relevant = relevant_memories.get_relevant_memories(\"película\")\n",
    "for message in relevant:\n",
    "    print(\"\\033[1m\" + message[\"role\"] + \"\\033[0m : \" + message[\"content\"])"
   ]
  },
  {
   "cell_type": "code",
   "execution_count": null,
   "metadata": {},
   "outputs": [],
   "source": []
  }
 ],
 "metadata": {
  "kernelspec": {
   "display_name": "Python 3 (ipykernel)",
   "language": "python",
   "name": "python3"
  },
  "language_info": {
   "codemirror_mode": {
    "name": "ipython",
    "version": 3
   },
   "file_extension": ".py",
   "mimetype": "text/x-python",
   "name": "python",
   "nbconvert_exporter": "python",
   "pygments_lexer": "ipython3",
   "version": "3.11.6"
  }
 },
 "nbformat": 4,
 "nbformat_minor": 4
}

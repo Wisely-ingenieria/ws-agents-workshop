{
 "cells": [
  {
   "cell_type": "markdown",
   "metadata": {},
   "source": [
    "# Tools"
   ]
  },
  {
   "cell_type": "markdown",
   "metadata": {},
   "source": [
    "## 1.- Setup inicial"
   ]
  },
  {
   "cell_type": "markdown",
   "metadata": {},
   "source": [
    "### 1.1- Instalar librerías "
   ]
  },
  {
   "cell_type": "code",
   "execution_count": 1,
   "metadata": {},
   "outputs": [],
   "source": [
    "# Instalar librerías\n",
    "#!pip install openai\n",
    "#!pip install tenacity\n",
    "#!pip install python-dotenv\n",
    "#!spacy download es_core_news_sm"
   ]
  },
  {
   "cell_type": "markdown",
   "metadata": {},
   "source": [
    "### 1.2.- Cargar librerías"
   ]
  },
  {
   "cell_type": "code",
   "execution_count": 2,
   "metadata": {},
   "outputs": [],
   "source": [
    "import os\n",
    "import json\n",
    "import openai\n",
    "import datetime\n",
    "from dotenv import load_dotenv\n",
    "from typing import Callable, List\n",
    "from tenacity import retry, wait_random_exponential, stop_after_attempt"
   ]
  },
  {
   "cell_type": "markdown",
   "metadata": {},
   "source": [
    "### 1.3.- OpenAI API"
   ]
  },
  {
   "cell_type": "code",
   "execution_count": 3,
   "metadata": {},
   "outputs": [
    {
     "name": "stdout",
     "output_type": "stream",
     "text": [
      "OpenAI API key: sk-eO...Re5lw\n",
      "GPT-3.5-Turbo model: gpt-3.5-turbo\n",
      "GPT-3.5-Turbo-16k model: gpt-3.5-turbo-16k\n",
      "GPT-4 model: gpt-4\n"
     ]
    }
   ],
   "source": [
    "# Cargar secretos y configuración desde el archivo .env\n",
    "load_dotenv()\n",
    "\n",
    "# Configurar la clave de la API de OpenAI\n",
    "openai.api_key = os.getenv(\"OPENAI_API_KEY\")\n",
    "embedding_model = os.getenv(\"OPENAI_EMBEDDING_MODEL\")\n",
    "print(\"OpenAI API key: {}\".format(openai.api_key[:5] + '...' + openai.api_key[-5:]))\n",
    "\n",
    "# Nombres de los modelos\n",
    "gpt35_model = os.getenv(\"OPENAI_GPT35_MODEL\")\n",
    "gpt35_16k_model = os.getenv(\"OPENAI_GPT35_16K_MODEL\")\n",
    "gpt4_model = os.getenv(\"OPENAI_GPT4_MODEL\")\n",
    "print(\"GPT-3.5-Turbo model: {}\".format(gpt35_model))\n",
    "print(\"GPT-3.5-Turbo-16k model: {}\".format(gpt35_16k_model))\n",
    "print(\"GPT-4 model: {}\".format(gpt4_model))"
   ]
  },
  {
   "cell_type": "markdown",
   "metadata": {},
   "source": [
    "### 1.4.- Importar clase Tools"
   ]
  },
  {
   "cell_type": "code",
   "execution_count": 4,
   "metadata": {},
   "outputs": [],
   "source": [
    "from agents.tools import Tool, Parameter"
   ]
  },
  {
   "cell_type": "markdown",
   "metadata": {},
   "source": [
    "### 1.5.- Definir funciones útiles"
   ]
  },
  {
   "cell_type": "code",
   "execution_count": 5,
   "metadata": {},
   "outputs": [],
   "source": [
    "@retry(wait=wait_random_exponential(min=1, max=20), stop=stop_after_attempt(3))\n",
    "def generate_text(prompt, model=gpt35_model, messages=[], max_tokens=200, temperature=1.0, top_p=1.0, frequency_penalty=0.0, presence_penalty=0.0, stop=None):\n",
    "    _messages = []\n",
    "    _messages.extend(messages)\n",
    "    _messages.append({\"role\": \"user\", \"content\": prompt})\n",
    "\n",
    "    response = openai.ChatCompletion.create(\n",
    "        model=model,\n",
    "        messages=_messages,\n",
    "        max_tokens=max_tokens,\n",
    "        temperature=temperature,\n",
    "        top_p=top_p,\n",
    "        frequency_penalty=frequency_penalty,\n",
    "        presence_penalty=presence_penalty,\n",
    "        stop=stop\n",
    "    )\n",
    "    return response[\"choices\"][0][\"message\"][\"content\"]"
   ]
  },
  {
   "cell_type": "code",
   "execution_count": 6,
   "metadata": {},
   "outputs": [],
   "source": [
    "@retry(wait=wait_random_exponential(min=1, max=20), stop=stop_after_attempt(3))\n",
    "def generate_text_with_function_call(prompt, model=gpt35_16k_model, messages=[], functions=[], max_tokens=-1, temperature=1.0, top_p=1.0, frequency_penalty=0.0, presence_penalty=0.0, stop=None, function_call='auto'):\n",
    "    _messages = []\n",
    "    _messages.extend(messages)\n",
    "    _messages.append({\"role\": \"user\", \"content\": prompt})\n",
    "    \n",
    "    if max_tokens == -1:\n",
    "        max_tokens = None\n",
    "\n",
    "    response = openai.ChatCompletion.create(\n",
    "        model=model,\n",
    "        messages=_messages,\n",
    "        functions=functions,\n",
    "        max_tokens=max_tokens,\n",
    "        temperature=temperature,\n",
    "        top_p=top_p,\n",
    "        frequency_penalty=frequency_penalty,\n",
    "        presence_penalty=presence_penalty,\n",
    "        stop=stop,\n",
    "        function_call=function_call\n",
    "    )\n",
    "    \n",
    "    if \"function_call\" in response[\"choices\"][0][\"message\"]:\n",
    "        return response[\"choices\"][0][\"message\"][\"function_call\"]\n",
    "    else:\n",
    "        return None"
   ]
  },
  {
   "cell_type": "markdown",
   "metadata": {},
   "source": [
    "## 2.- Ejemplo Function Calling"
   ]
  },
  {
   "cell_type": "markdown",
   "metadata": {},
   "source": [
    "### 2.1 Suma de números o concatenación de strings"
   ]
  },
  {
   "cell_type": "markdown",
   "metadata": {},
   "source": [
    "#### 2.1.1 Definición de funciones"
   ]
  },
  {
   "cell_type": "code",
   "execution_count": 7,
   "metadata": {},
   "outputs": [],
   "source": [
    "def sumar(a: int, b: int) -> int:\n",
    "    return a + b\n",
    "\n",
    "def concatenar_strings(s1: str, s2: str) -> str:\n",
    "    return s1 + s2"
   ]
  },
  {
   "cell_type": "markdown",
   "metadata": {},
   "source": [
    "#### 2.1.2 Instanciar funciones como Tools"
   ]
  },
  {
   "cell_type": "code",
   "execution_count": 8,
   "metadata": {},
   "outputs": [],
   "source": [
    "sumar_tool = Tool(\n",
    "    name=\"sumar\",\n",
    "    func=sumar,\n",
    "    description=\"Esta función recibe dos números enteros como entrada y devuelve la suma de estos dos números.\",\n",
    "    arguments=[\n",
    "        Parameter(name=\"Sumando 1\", description=\"Primer número\", type=int, required=True),\n",
    "        Parameter(name=\"Sumando 2\", description=\"Segundo número\", type=int, required=True)\n",
    "    ]\n",
    ")\n",
    "\n",
    "concatenar_tool = Tool(\n",
    "    name=\"concatenar_strings\",\n",
    "    func=concatenar_strings,\n",
    "    description=\"Esta función toma dos palabras como entrada y las combina en una sola cadena de texto, sin agregar espacios ni caracteres adicionales.\",\n",
    "    arguments=[\n",
    "        Parameter(name=\"String 1\", description=\"Primera cadena\", type=str, required=True),\n",
    "        Parameter(name=\"String 2\", description=\"Segunda cadena\", type=str, required=True)\n",
    "    ]\n",
    ")\n",
    "\n",
    "#Definir lista de tools\n",
    "tools1 = [sumar_tool, concatenar_tool]"
   ]
  },
  {
   "cell_type": "markdown",
   "metadata": {},
   "source": [
    "#### 2.1.3 Ejemplos de uso"
   ]
  },
  {
   "cell_type": "markdown",
   "metadata": {},
   "source": [
    "#### Sumar números"
   ]
  },
  {
   "cell_type": "code",
   "execution_count": 9,
   "metadata": {},
   "outputs": [],
   "source": [
    "input1 = \"Sumar los números 5 y 7\""
   ]
  },
  {
   "cell_type": "markdown",
   "metadata": {},
   "source": [
    "##### Llamada al modelo"
   ]
  },
  {
   "cell_type": "code",
   "execution_count": 11,
   "metadata": {},
   "outputs": [
    {
     "name": "stdout",
     "output_type": "stream",
     "text": [
      "{\n",
      "  \"name\": \"sumar\",\n",
      "  \"arguments\": \"{\\n  \\\"Sumando 1\\\": 5,\\n  \\\"Sumando 2\\\": 7\\n}\"\n",
      "}\n"
     ]
    }
   ],
   "source": [
    "function_calling1 = generate_text_with_function_call(prompt = input1, model = gpt35_16k_model, functions = [sumar_tool.get_schema(), concatenar_tool.get_schema()])\n",
    "print(function_calling1)"
   ]
  },
  {
   "cell_type": "markdown",
   "metadata": {},
   "source": [
    "##### Se ejecuta la función"
   ]
  },
  {
   "cell_type": "code",
   "execution_count": 13,
   "metadata": {},
   "outputs": [
    {
     "name": "stdout",
     "output_type": "stream",
     "text": [
      "El resultado es: 12\n"
     ]
    }
   ],
   "source": [
    "name1, arguments1 = function_calling1.values()\n",
    "sum1, sum2 = json.loads(arguments1).values()\n",
    "for tool in tools1:\n",
    "    if name1 == tool.name:\n",
    "        result = tool.execute(sum1, sum2)\n",
    "        print(f'El resultado es: {result}')"
   ]
  },
  {
   "cell_type": "markdown",
   "metadata": {},
   "source": [
    "---------------------------------------------------------------------------------------------------------------------------------------------------------"
   ]
  },
  {
   "cell_type": "markdown",
   "metadata": {},
   "source": [
    "#### Sumar strings"
   ]
  },
  {
   "cell_type": "code",
   "execution_count": 14,
   "metadata": {},
   "outputs": [],
   "source": [
    "input2 = 'Une estas palabras: \"hola\" y \"mundo\"'"
   ]
  },
  {
   "cell_type": "markdown",
   "metadata": {},
   "source": [
    "##### Llamada al modelo"
   ]
  },
  {
   "cell_type": "code",
   "execution_count": 15,
   "metadata": {},
   "outputs": [
    {
     "name": "stdout",
     "output_type": "stream",
     "text": [
      "{\n",
      "  \"name\": \"concatenar_strings\",\n",
      "  \"arguments\": \"{\\n\\\"String 1\\\": \\\"hola\\\",\\n\\\"String 2\\\": \\\"mundo\\\"\\n}\"\n",
      "}\n"
     ]
    }
   ],
   "source": [
    "function_calling2 = generate_text_with_function_call(prompt = input2, model = gpt35_16k_model, functions = [sumar_tool.get_schema(), concatenar_tool.get_schema()])\n",
    "print(function_calling2)"
   ]
  },
  {
   "cell_type": "markdown",
   "metadata": {},
   "source": [
    "##### Se ejecuta la función"
   ]
  },
  {
   "cell_type": "code",
   "execution_count": 16,
   "metadata": {},
   "outputs": [
    {
     "name": "stdout",
     "output_type": "stream",
     "text": [
      "El resultado es: holamundo\n"
     ]
    }
   ],
   "source": [
    "name2, arguments2 = function_calling2.values()\n",
    "arg1, arg2 = json.loads(arguments2).values()\n",
    "for tool in tools1:\n",
    "    if name2 == tool.name:\n",
    "        result = tool.execute(arg1, arg2)\n",
    "        print(f'El resultado es: {result}')"
   ]
  },
  {
   "cell_type": "markdown",
   "metadata": {},
   "source": []
  },
  {
   "cell_type": "markdown",
   "metadata": {},
   "source": [
    "## 3.- Ejemplo de Prompting para replicar Function Calling"
   ]
  },
  {
   "cell_type": "markdown",
   "metadata": {},
   "source": [
    "### 3.1 Operaciones con números"
   ]
  },
  {
   "cell_type": "markdown",
   "metadata": {},
   "source": [
    "#### 3.1.1 Definición de funciones"
   ]
  },
  {
   "cell_type": "code",
   "execution_count": 17,
   "metadata": {},
   "outputs": [],
   "source": [
    "# Funciones\n",
    "def sumar(a: int, b: int) -> int:\n",
    "    return a + b\n",
    "\n",
    "def multiplicar(a: int, b: int) -> int:\n",
    "    return a * b\n",
    "\n",
    "def restar(a: int, b: int) -> int:\n",
    "    return a - b\n",
    "\n",
    "def al_cuadrado(numero: int) -> int:\n",
    "    return numero * numero"
   ]
  },
  {
   "cell_type": "markdown",
   "metadata": {},
   "source": [
    "#### 2.2.2 Instanciar funciones como Tools"
   ]
  },
  {
   "cell_type": "code",
   "execution_count": 18,
   "metadata": {},
   "outputs": [],
   "source": [
    "# Crear instancias de la clase Tool para cada función\n",
    "sumar_tool = Tool(\n",
    "    name=\"sumar\",\n",
    "    func=sumar,\n",
    "    description=\"Sumar dos números\",\n",
    "    arguments=[\n",
    "        Parameter(name=\"a\", description=\"Primer número\", type=int, required=True),\n",
    "        Parameter(name=\"b\", description=\"Segundo número\", type=int, required=True)\n",
    "    ]\n",
    ")\n",
    "\n",
    "multiplicar_tool = Tool(\n",
    "    name=\"multiplicar\",\n",
    "    func=multiplicar,\n",
    "    description=\"Multiplicar dos números\",\n",
    "    arguments=[\n",
    "        Parameter(name=\"a\", description=\"Primer número\", type=int, required=True),\n",
    "        Parameter(name=\"b\", description=\"Segundo número\", type=int, required=True)\n",
    "    ]\n",
    ")\n",
    "\n",
    "restar_tool = Tool(\n",
    "    name=\"restar\",\n",
    "    func=restar,\n",
    "    description=\"Restar dos números\",\n",
    "    arguments=[\n",
    "        Parameter(name=\"a\", description=\"Primer número\", type=int, required=True),\n",
    "        Parameter(name=\"b\", description=\"Segundo número\", type=int, required=True)\n",
    "    ]\n",
    ")\n",
    "\n",
    "cuadrado_tool = Tool(\n",
    "    name=\"al_cuadrado\",\n",
    "    func=al_cuadrado,\n",
    "    description=\"Calcular el cuadrado de un número\",\n",
    "    arguments=[\n",
    "        Parameter(name=\"numero\", description=\"Número para elevar al cuadrado\", type=int, required=True)\n",
    "    ]\n",
    ")\n",
    "\n",
    "# Definir lista de herramientas\n",
    "tools2 = [sumar_tool, multiplicar_tool, restar_tool, cuadrado_tool]"
   ]
  },
  {
   "cell_type": "code",
   "execution_count": null,
   "metadata": {},
   "outputs": [],
   "source": [
    "\n"
   ]
  }
 ],
 "metadata": {
  "kernelspec": {
   "display_name": "Python 3 (ipykernel)",
   "language": "python",
   "name": "python3"
  },
  "language_info": {
   "codemirror_mode": {
    "name": "ipython",
    "version": 3
   },
   "file_extension": ".py",
   "mimetype": "text/x-python",
   "name": "python",
   "nbconvert_exporter": "python",
   "pygments_lexer": "ipython3",
   "version": "3.11.6"
  }
 },
 "nbformat": 4,
 "nbformat_minor": 4
}

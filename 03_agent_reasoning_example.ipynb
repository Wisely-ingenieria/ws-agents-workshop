{
 "cells": [
  {
   "cell_type": "markdown",
   "metadata": {},
   "source": [
    "# Razonamiento de los Agentes\n",
    "Este código muestra cómo implementar razonamiento en agentes que interactúan con el entorno."
   ]
  },
  {
   "cell_type": "markdown",
   "metadata": {},
   "source": [
    "## 1.- Setup inicial"
   ]
  },
  {
   "cell_type": "markdown",
   "metadata": {},
   "source": [
    "### 1.1- Instalar librerías"
   ]
  },
  {
   "cell_type": "code",
   "execution_count": 2,
   "metadata": {},
   "outputs": [],
   "source": [
    "#! pip install openai\n",
    "#! pip install tenacity\n",
    "#! pip install python-dotenv"
   ]
  },
  {
   "cell_type": "markdown",
   "metadata": {},
   "source": [
    "### 1.2.- Cargar librerías"
   ]
  },
  {
   "cell_type": "code",
   "execution_count": 4,
   "metadata": {},
   "outputs": [],
   "source": [
    "import openai\n",
    "import os\n",
    "from dotenv import load_dotenv"
   ]
  },
  {
   "cell_type": "markdown",
   "metadata": {},
   "source": [
    "### 1.3.- Variables de entorno"
   ]
  },
  {
   "cell_type": "code",
   "execution_count": 5,
   "metadata": {},
   "outputs": [
    {
     "name": "stdout",
     "output_type": "stream",
     "text": [
      "OpenAI API key: sk-eO...Re5lw\n",
      "GPT-3.5-Turbo model: gpt-3.5-turbo\n",
      "GPT-3.5-Turbo-16k model: gpt-3.5-turbo-16k\n",
      "GPT-4 model: gpt-4\n"
     ]
    }
   ],
   "source": [
    "# Load secrets and config from .env file\n",
    "load_dotenv()\n",
    "\n",
    "# OpenAI API\n",
    "openai.api_key = os.getenv(\"OPENAI_API_KEY\")\n",
    "embedding_model = os.getenv(\"OPENAI_EMBEDDING_MODEL\")\n",
    "print(\"OpenAI API key: {}\".format(openai.api_key[:5] + '...' + openai.api_key[-5:]))\n",
    "\n",
    "# Model endpoint names\n",
    "gpt35_model = os.getenv(\"OPENAI_GPT35_MODEL\")\n",
    "gpt35_16k_model = os.getenv(\"OPENAI_GPT35_16K_MODEL\")\n",
    "gpt4_model = os.getenv(\"OPENAI_GPT4_MODEL\")\n",
    "print(\"GPT-3.5-Turbo model: {}\".format(gpt35_model))\n",
    "print(\"GPT-3.5-Turbo-16k model: {}\".format(gpt35_16k_model))\n",
    "print(\"GPT-4 model: {}\".format(gpt4_model))"
   ]
  },
  {
   "cell_type": "markdown",
   "metadata": {},
   "source": [
    "### 2.0.- Ejemplo sin razonamiento "
   ]
  },
  {
   "cell_type": "code",
   "execution_count": 71,
   "metadata": {},
   "outputs": [
    {
     "name": "stdout",
     "output_type": "stream",
     "text": [
      "Respuesta Ejemplo 1: \"e\"\n",
      "Respuesta Ejemplo 2: La fecha hace una semana a partir de hoy en formato MM/DD/YYYY es 7/2/1972.\n"
     ]
    }
   ],
   "source": [
    "from llm.openai import generate_text\n",
    "\n",
    "user_input = \"Toma la última letra de cada palabra en 'Larry Page' y concaténalas\"\n",
    "response = generate_text(prompt=user_input,model=gpt35_model)\n",
    "print(f\"Respuesta Ejemplo 1: {response}\") #Resp: ye\n",
    "\n",
    "user_input = \"Jane programó 3 citas con 5 personas para mañana (martes, 7/9/1972). ¿Cuál es la fecha hace una semana a partir de hoy en formato MM/DD/YYYY?\"\n",
    "response = generate_text(prompt=user_input,model=gpt35_model)\n",
    "print(f\"Respuesta Ejemplo 2: {response}\") #Resp:  07/01/1972"
   ]
  },
  {
   "cell_type": "markdown",
   "metadata": {},
   "source": [
    "### 2.1.1- Chain Of Thought (CoT) Simple"
   ]
  },
  {
   "cell_type": "code",
   "execution_count": 75,
   "metadata": {},
   "outputs": [
    {
     "name": "stdout",
     "output_type": "stream",
     "text": [
      "Respuesta Ejemplo 1: 1. L -> La última letra de la palabra \"Larry\" es \"y\"\n",
      "2. P -> La última letra de la palabra \"Page\" es \"e\"\n",
      "3. Concatenando las últimas letras obtenemos \"ye\"\n",
      "\n",
      "Por lo tanto, la respuesta es \"ye\".\n",
      "\n",
      "Respuesta Ejemplo 2: Para encontrar la fecha hace una semana a partir de hoy, seguimos los siguientes pasos:\n",
      "\n",
      "1. Tomamos la fecha de hoy, que es 7/9/1972.\n",
      "2. Restamos una semana a la fecha de hoy. Esto significa restar 7 días a la fecha.\n",
      "3. Esto nos dará la nueva fecha.\n",
      "\n",
      "Siguiendo estos pasos:\n",
      "\n",
      "1. La fecha de hoy es 7/9/1972.\n",
      "2. Restamos una semana a la fecha de hoy: 7/9/1972 - 7 días = 7/2/1972.\n",
      "3. Por lo tanto, hace una semana a partir de hoy en el formato MM/DD/YYYY es el 7/2/1972.\n",
      "\n"
     ]
    }
   ],
   "source": [
    "# CoT Prompt\n",
    "COT_PROMPT = \"Vamos a pensar paso a paso.\"\n",
    "\n",
    "user_input = f\"Toma la última letra de cada palabra en 'Larry Page' y concaténalas. {COT_PROMPT}\"\n",
    "response = generate_text(prompt=user_input,model=gpt35_model)\n",
    "print(f\"Respuesta Ejemplo 1: {response}\\n\") #Resp: ye\n",
    "\n",
    "user_input = f\"Jane programó 3 citas con 5 personas para mañana (martes, 7/9/1972). ¿Cuál es la fecha hace una semana a partir de hoy en formato MM/DD/YYYY?. {COT_PROMPT}\"\n",
    "response = generate_text(prompt=user_input,model=gpt35_model)\n",
    "print(f\"Respuesta Ejemplo 2: {response}\\n\") #Resp:  07/01/1972"
   ]
  },
  {
   "cell_type": "markdown",
   "metadata": {},
   "source": [
    "### 2.1.2- Chain Of Thought (CoT) + Few Shot"
   ]
  },
  {
   "cell_type": "code",
   "execution_count": 88,
   "metadata": {},
   "outputs": [
    {
     "name": "stdout",
     "output_type": "stream",
     "text": [
      "Respuesta Ejemplo 1: Claro, vamos a realizarlo paso a paso:\n",
      "\n",
      "- La última letra de \"Larry\" es \"y\".\n",
      "- La última letra de \"Page\" es \"e\".\n",
      "\n",
      "Luego, concatenando estas letras obtenemos \"ye\". Esa sería la respuesta final.\n",
      "\n",
      "\n",
      "Respuesta Ejemplo 2: Para resolver el problema, vamos a hacer los cálculos paso a paso:\n",
      "\n",
      "Michael tenía inicialmente 58 pelotas de golf.\n",
      "\n",
      "El martes perdió 23 pelotas de golf. Entonces, restamos 23 a las 58 pelotas que tenía:\n",
      "\n",
      "58 - 23 = 35\n",
      "\n",
      "Después, el miércoles perdió 2 pelotas de golf adicionales. Restamos 2 a las 35 que tenía:\n",
      "\n",
      "35 - 2 = 33\n",
      "\n",
      "Entonces, al final del miércoles, Michael tenía 33 pelotas de golf.\n",
      "\n",
      "La respuesta es que Michael tenía 33 pelotas de golf al final del miércoles.\n",
      "\n"
     ]
    }
   ],
   "source": [
    "def add_message(messages=[], role=\"user\", input=''):\n",
    "    messages.append({\"role\": role, \"content\": input})\n",
    "\n",
    "# Inyeccion de mensajes de ejemplo\n",
    "messages=[]\n",
    "#Example 1: Math problem\n",
    "add_message(messages,\"user\",\"There are 15 trees in the grove. Grove workers will plant trees in the grove today. After they are done, there will be 21 trees. How many trees did the grove workers plant today?\")\n",
    "add_message(messages,\"assistant\",\" There are 15 trees originally. Then there were 21 trees after some more were planted. So there must have been 21 - 15 = 6. The answer is 6.\")\n",
    "#Example 2: Concadenate problem\n",
    "add_message(messages,\"user\",\"Take the last letters of the words in 'Elon Musk' and concatenate them.\")\n",
    "add_message(messages,\"assistant\",\" The last letter of 'Elon' is 'n'. The last letter of 'Musk' is 'k'. Concatenating them is 'nk'. The answer is nk.\")\n",
    "#Example 3:  CSQA problem\n",
    "add_message(messages,\"user\",\"What do people use to absorb extra ink from a fountain pen? Answer Choices: (a) shirt pocket (b) calligrapher’s hand (c) inkwell (d) desk drawer (e) blotter\")\n",
    "add_message(messages,\"assistant\",\"The answer must be an item that can absorb ink. Of the above choices, only blotters are used to absorb ink.So the answer is (e).\")\n",
    "#Example 4:  Date Understanding problem\n",
    "add_message(messages,\"user\",\" Jane was born on the last day of Feburary in 2001. Today is her 16-year-old birthday. What is the date yesterday in MM/DD/YYYY?\")\n",
    "add_message(messages,\"assistant\",\"The last day of February is the 28th, so Jane was born on 02/28/2001. Today is her 16-year old birthday, so today is 02/28/2017. So yesterday was 02/27/2017. So the answer is 02/27/2017.\")\n",
    "\n",
    "# Se ejecuta 1 peticion\n",
    "user_input = f\"Toma la última letra de cada palabra en 'Larry Page' y concaténalas. {COT_PROMPT}\"\n",
    "response = generate_text(prompt=user_input,model=gpt35_model,messages=messages)\n",
    "print(f\"Respuesta Ejemplo 1: {response}\\n\") #Resp: ye\n",
    "\n",
    "# Se ejecuta 2 peticion\n",
    "user_input = f\"Michael tenía 58 pelotas de golf. El martes perdió 23 pelotas de golf. El miércoles perdió 2 más. ¿Cuántas pelotas de golf tenía al final del miércoles?. {COT_PROMPT}\"\n",
    "response = generate_text(prompt=user_input,model=gpt35_model,messages=messages)\n",
    "print(f\"\\nRespuesta Ejemplo 2: {response}\\n\") #Resp: 33"
   ]
  },
  {
   "cell_type": "markdown",
   "metadata": {},
   "source": [
    "### 2.1.- Tree Of Thought (ToT)"
   ]
  },
  {
   "cell_type": "code",
   "execution_count": null,
   "metadata": {},
   "outputs": [],
   "source": []
  },
  {
   "cell_type": "markdown",
   "metadata": {},
   "source": [
    "### 2.1.- Graph Of Thought (GoT)"
   ]
  },
  {
   "cell_type": "code",
   "execution_count": null,
   "metadata": {},
   "outputs": [],
   "source": []
  }
 ],
 "metadata": {
  "kernelspec": {
   "display_name": ".venv",
   "language": "python",
   "name": "python3"
  },
  "language_info": {
   "codemirror_mode": {
    "name": "ipython",
    "version": 3
   },
   "file_extension": ".py",
   "mimetype": "text/x-python",
   "name": "python",
   "nbconvert_exporter": "python",
   "pygments_lexer": "ipython3",
   "version": "3.11.5"
  },
  "orig_nbformat": 4
 },
 "nbformat": 4,
 "nbformat_minor": 2
}

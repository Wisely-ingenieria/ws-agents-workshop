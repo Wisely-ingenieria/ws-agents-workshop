{
 "cells": [
  {
   "cell_type": "markdown",
   "metadata": {},
   "source": [
    "# Agentes\n",
    "Este código muestra cómo implementar un ejemplo sencillo de un agente que interactúa con el entorno."
   ]
  },
  {
   "cell_type": "markdown",
   "metadata": {},
   "source": [
    "## 1.- Setup inicial"
   ]
  },
  {
   "cell_type": "markdown",
   "metadata": {},
   "source": [
    "### 1.1- Instalar librerías"
   ]
  },
  {
   "cell_type": "code",
   "execution_count": 6,
   "metadata": {},
   "outputs": [],
   "source": [
    "#! pip install openai\n",
    "#! pip install tenacity\n",
    "#! pip install python-dotenv"
   ]
  },
  {
   "cell_type": "markdown",
   "metadata": {},
   "source": [
    "### 1.2.- Cargar librerías"
   ]
  },
  {
   "cell_type": "code",
   "execution_count": 7,
   "metadata": {},
   "outputs": [],
   "source": [
    "import openai\n",
    "import os\n",
    "import numpy as np\n",
    "from datetime import datetime\n",
    "from dotenv import load_dotenv\n",
    "from tenacity import retry, wait_random_exponential, stop_after_attempt"
   ]
  },
  {
   "cell_type": "markdown",
   "metadata": {},
   "source": [
    "### 1.3.- Variables de entorno"
   ]
  },
  {
   "cell_type": "code",
   "execution_count": 8,
   "metadata": {},
   "outputs": [
    {
     "name": "stdout",
     "output_type": "stream",
     "text": [
      "OpenAI API key: sk-eO...Re5lw\n",
      "GPT-3.5-Turbo model: gpt-3.5-turbo\n",
      "GPT-3.5-Turbo-16k model: gpt-3.5-turbo-16k\n",
      "GPT-4 model: gpt-4\n"
     ]
    }
   ],
   "source": [
    "# Load secrets and config from .env file\n",
    "load_dotenv()\n",
    "\n",
    "# OpenAI API\n",
    "openai.api_key = os.getenv(\"OPENAI_API_KEY\")\n",
    "embedding_model = os.getenv(\"OPENAI_EMBEDDING_MODEL\")\n",
    "print(\"OpenAI API key: {}\".format(openai.api_key[:5] + '...' + openai.api_key[-5:]))\n",
    "\n",
    "# Model endpoint names\n",
    "gpt35_model = os.getenv(\"OPENAI_GPT35_MODEL\")\n",
    "gpt35_16k_model = os.getenv(\"OPENAI_GPT35_16K_MODEL\")\n",
    "gpt4_model = os.getenv(\"OPENAI_GPT4_MODEL\")\n",
    "print(\"GPT-3.5-Turbo model: {}\".format(gpt35_model))\n",
    "print(\"GPT-3.5-Turbo-16k model: {}\".format(gpt35_16k_model))\n",
    "print(\"GPT-4 model: {}\".format(gpt4_model))"
   ]
  },
  {
   "cell_type": "code",
   "execution_count": 9,
   "metadata": {},
   "outputs": [
    {
     "name": "stdout",
     "output_type": "stream",
     "text": [
      "2023-10-19 10:13:52 [INFO] Goal: List the files and folders in the root directory\n",
      "2023-10-19 10:14:14 [INFO] Thought: We need to list the content in the root directory. The 'list_directory' tool is more suited for this than 'search_directory' as we are not looking for specific files or folders using a regular expression. We are simply interested in the entire content of the root directory. This tool will help us get the files and folders of the specified directory and its subdirectories. For the path, we will use './' to indicate the root directory and depth can be set to 1 as we just need the root directories content not subdirectories.\n",
      "2023-10-19 10:14:19 [INFO] Action: {\n",
      "  \"arguments\": \"{\\n  \\\"path\\\": \\\"./\\\",\\n  \\\"depth\\\": 1\\n}\",\n",
      "  \"name\": \"list_directory\"\n",
      "}\n",
      "2023-10-19 10:14:19 [INFO] Observation: ERROR: Failed executing list_directory: 'str' object has no attribute 'get'\n",
      "2023-10-19 10:14:25 [INFO] Thought: It seems like there was an error with the execution of the 'list_directory' tool related to the 'str' object with no 'get' attribute. The error suggests that there's a problem with how parameters were sent to the tool. The parameter values should be sent as a dictionary object, not as a string. \n",
      "Let's correct this by sending the argument values as a dictionary object rather than a string.\n",
      "2023-10-19 10:14:31 [INFO] Action: {\n",
      "  \"arguments\": \"{\\n  \\\"path\\\": \\\"./\\\",\\n  \\\"depth\\\": 1\\n}\",\n",
      "  \"name\": \"list_directory\"\n",
      "}\n",
      "2023-10-19 10:14:31 [INFO] Observation: ERROR: Failed executing list_directory: 'str' object has no attribute 'get'\n",
      "2023-10-19 10:15:04 [INFO] Thought: It seems like the same error occurred again, even though the arguments were sent in a dictionary format. There might be confusion in regards to the format of the arguments. It's also possible that the 'path' parameter may not accept './' as the root directory. I have to modify the path or revisit the format and send the data again.\n",
      "\n",
      "To tackle this, let's use the list_directory tool again, this time by passing the arguments in correct dictionary format to make sure no formatting issues are causing the problem. In case the issue persists, troubleshooting the path parameter might be required. The referred root directory might not be interpreted as './'. \n",
      "\n",
      "Until the error is resolved, we cannot proceed to any final answer. \n",
      "\n",
      "So, I will go back and use the list_directory tool again, making sure to follow the instructions detailed in the description of the tools more carefully.\n",
      "2023-10-19 10:15:09 [INFO] Action: {\n",
      "  \"arguments\": \"{\\n  \\\"path\\\": \\\"./\\\",\\n  \\\"depth\\\": 1\\n}\",\n",
      "  \"name\": \"list_directory\"\n",
      "}\n",
      "2023-10-19 10:15:09 [INFO] Observation: ERROR: Failed executing list_directory: 'str' object has no attribute 'get'\n",
      "2023-10-19 10:15:39 [INFO] Thought: The error persisted even after reattempting to correct the format of the arguments. This suggests that the issue might lie elsewhere, possibly with the 'path' parameter. It appears that the tool might not understand './' as the root directory. \n",
      "\n",
      "One strategy could be to try using a different indicator for the root directory, if any such symbol or character is considered valid or typical in this context. \n",
      "\n",
      "Alternatively, it could be worth examining any examples or further instructions related to the use of this tool, if such exist - that might provide additional insights into why the tool is not functioning as expected.\n",
      "\n",
      "Overall, given the current situation, the best course of action would be venture into another attempt to the 'list_directory' tool with a different approach towards presenting the path.\n",
      "2023-10-19 10:15:44 [INFO] Action: {\n",
      "  \"arguments\": \"{\\n  \\\"path\\\": \\\"./\\\",\\n  \\\"depth\\\": 1\\n}\",\n",
      "  \"name\": \"list_directory\"\n",
      "}\n",
      "2023-10-19 10:15:44 [INFO] Observation: ERROR: Failed executing list_directory: 'str' object has no attribute 'get'\n",
      "2023-10-19 10:16:11 [INFO] Thought: Despite repeated attempts, the error persists which indicates that the issue is potentially not with the format of the arguments passed. It's also unlikely that the root path is not being recognized as \"./\". There seems to some misunderstanding or misinterpretation of the tool's usage. \n",
      "\n",
      "Given the lack of detailed instructions or options to interact with the tool like providing a different path or depth, it's hard to identify the exact issue. Nevertheless, it would be valuable to check the broader environment or the functionality of the tool itself if possible, or seek additional guidance or instructions.\n",
      "\n",
      "Right now, I'm unable to fulfil the goal. Hence, the next step would be to inform about the situation. \n",
      "For this, I will use the final_answer tool and explain the issue.\n",
      "2023-10-19 10:16:12 [INFO] Action: {\n",
      "  \"arguments\": \"{}\",\n",
      "  \"name\": \"final_answer\"\n",
      "}\n"
     ]
    },
    {
     "ename": "RetryError",
     "evalue": "RetryError[<Future at 0x2320f872380 state=finished raised TypeError>]",
     "output_type": "error",
     "traceback": [
      "\u001b[1;31m---------------------------------------------------------------------------\u001b[0m",
      "\u001b[1;31mTypeError\u001b[0m                                 Traceback (most recent call last)",
      "File \u001b[1;32mc:\\Users\\Volrath\\AppData\\Local\\Programs\\Python\\Python310\\lib\\site-packages\\tenacity\\__init__.py:382\u001b[0m, in \u001b[0;36mRetrying.__call__\u001b[1;34m(self, fn, *args, **kwargs)\u001b[0m\n\u001b[0;32m    381\u001b[0m \u001b[39mtry\u001b[39;00m:\n\u001b[1;32m--> 382\u001b[0m     result \u001b[39m=\u001b[39m fn(\u001b[39m*\u001b[39margs, \u001b[39m*\u001b[39m\u001b[39m*\u001b[39mkwargs)\n\u001b[0;32m    383\u001b[0m \u001b[39mexcept\u001b[39;00m \u001b[39mBaseException\u001b[39;00m:  \u001b[39m# noqa: B902\u001b[39;00m\n",
      "File \u001b[1;32me:\\AI\\ws-agents-workshop\\llm\\openai.py:31\u001b[0m, in \u001b[0;36mgenerate_text\u001b[1;34m(prompt, model, messages, max_tokens, temperature, top_p, frequency_penalty, presence_penalty, stop)\u001b[0m\n\u001b[0;32m     30\u001b[0m \u001b[39mfor\u001b[39;00m message \u001b[39min\u001b[39;00m _messages:\n\u001b[1;32m---> 31\u001b[0m     _log_message \u001b[39m+\u001b[39m\u001b[39m=\u001b[39m \u001b[39mf\u001b[39m\u001b[39m\"\u001b[39m\u001b[39m{\u001b[39;00mmessage[\u001b[39m'\u001b[39;49m\u001b[39mrole\u001b[39;49m\u001b[39m'\u001b[39;49m]\u001b[39m}\u001b[39;00m\u001b[39m: \u001b[39m\u001b[39m{\u001b[39;00mmessage[\u001b[39m'\u001b[39m\u001b[39mcontent\u001b[39m\u001b[39m'\u001b[39m]\u001b[39m}\u001b[39;00m\u001b[39m\\n\u001b[39;00m\u001b[39m\"\u001b[39m\n\u001b[0;32m     32\u001b[0m logger\u001b[39m.\u001b[39minfo(_log_message)\n",
      "\u001b[1;31mTypeError\u001b[0m: string indices must be integers",
      "\nThe above exception was the direct cause of the following exception:\n",
      "\u001b[1;31mRetryError\u001b[0m                                Traceback (most recent call last)",
      "\u001b[1;32me:\\AI\\ws-agents-workshop\\04_agent_example.ipynb Cell 9\u001b[0m line \u001b[0;36m1\n\u001b[0;32m     <a href='vscode-notebook-cell:/e%3A/AI/ws-agents-workshop/04_agent_example.ipynb#X11sZmlsZQ%3D%3D?line=14'>15</a>\u001b[0m \u001b[39m# Execute a chain of thoughts with a specific goal\u001b[39;00m\n\u001b[0;32m     <a href='vscode-notebook-cell:/e%3A/AI/ws-agents-workshop/04_agent_example.ipynb#X11sZmlsZQ%3D%3D?line=15'>16</a>\u001b[0m goal \u001b[39m=\u001b[39m \u001b[39m\"\u001b[39m\u001b[39mList the files and folders in the root directory\u001b[39m\u001b[39m\"\u001b[39m\n\u001b[1;32m---> <a href='vscode-notebook-cell:/e%3A/AI/ws-agents-workshop/04_agent_example.ipynb#X11sZmlsZQ%3D%3D?line=16'>17</a>\u001b[0m result \u001b[39m=\u001b[39m agent\u001b[39m.\u001b[39;49mexecute_chain_of_thought(goal)\n\u001b[0;32m     <a href='vscode-notebook-cell:/e%3A/AI/ws-agents-workshop/04_agent_example.ipynb#X11sZmlsZQ%3D%3D?line=17'>18</a>\u001b[0m \u001b[39mprint\u001b[39m(result)\n",
      "File \u001b[1;32me:\\AI\\ws-agents-workshop\\agents\\agent.py:65\u001b[0m, in \u001b[0;36mAgent.execute_chain_of_thought\u001b[1;34m(self, goal, max_iterations)\u001b[0m\n\u001b[0;32m     62\u001b[0m \u001b[39mself\u001b[39m\u001b[39m.\u001b[39mscratchpad \u001b[39m+\u001b[39m\u001b[39m=\u001b[39m \u001b[39mf\u001b[39m\u001b[39m\"\u001b[39m\u001b[39m\\n\u001b[39;00m\u001b[39mAction: \u001b[39m\u001b[39m{\u001b[39;00mchosen_tool\u001b[39m}\u001b[39;00m\u001b[39m\"\u001b[39m\n\u001b[0;32m     64\u001b[0m \u001b[39mif\u001b[39;00m chosen_tool \u001b[39mis\u001b[39;00m \u001b[39mNone\u001b[39;00m \u001b[39mor\u001b[39;00m chosen_tool\u001b[39m.\u001b[39mget(\u001b[39m\"\u001b[39m\u001b[39mname\u001b[39m\u001b[39m\"\u001b[39m,\u001b[39m\"\u001b[39m\u001b[39m\"\u001b[39m) \u001b[39m==\u001b[39m \u001b[39m'\u001b[39m\u001b[39mfinal_answer\u001b[39m\u001b[39m'\u001b[39m:\n\u001b[1;32m---> 65\u001b[0m     final_answer \u001b[39m=\u001b[39m \u001b[39mself\u001b[39;49m\u001b[39m.\u001b[39;49mfinal_answer()\n\u001b[0;32m     66\u001b[0m     \u001b[39mself\u001b[39m\u001b[39m.\u001b[39mscratchpad \u001b[39m+\u001b[39m\u001b[39m=\u001b[39m \u001b[39mf\u001b[39m\u001b[39m\"\u001b[39m\u001b[39m\\n\u001b[39;00m\u001b[39mFinal Answer: \u001b[39m\u001b[39m{\u001b[39;00mfinal_answer\u001b[39m}\u001b[39;00m\u001b[39m\"\u001b[39m\n\u001b[0;32m     67\u001b[0m     \u001b[39mbreak\u001b[39;00m\n",
      "File \u001b[1;32me:\\AI\\ws-agents-workshop\\agents\\agent.py:134\u001b[0m, in \u001b[0;36mAgent.final_answer\u001b[1;34m(self)\u001b[0m\n\u001b[0;32m    132\u001b[0m prompt \u001b[39m=\u001b[39m \u001b[39mf\u001b[39m\u001b[39m\"\u001b[39m\u001b[39m[HISTORY]\u001b[39m\u001b[39m\\n\u001b[39;00m\u001b[39mHere is the conversation history between you and the user:\u001b[39m\u001b[39m\\n\u001b[39;00m\u001b[39m{\u001b[39;00m\u001b[39mself\u001b[39m\u001b[39m.\u001b[39mrelevant_memories\u001b[39m}\u001b[39;00m\u001b[39m\\n\u001b[39;00m\u001b[39m\\n\u001b[39;00m\u001b[39m\"\u001b[39m  \n\u001b[0;32m    133\u001b[0m prompt \u001b[39m+\u001b[39m\u001b[39m=\u001b[39m \u001b[39mf\u001b[39m\u001b[39m\"\u001b[39m\u001b[39m[GOAL]\u001b[39m\u001b[39m\\n\u001b[39;00m\u001b[39m{\u001b[39;00m\u001b[39mself\u001b[39m\u001b[39m.\u001b[39mgoal\u001b[39m}\u001b[39;00m\u001b[39m\\n\u001b[39;00m\u001b[39m\\n\u001b[39;00m\u001b[39m[SCRATCHPAD]\u001b[39m\u001b[39m\\n\u001b[39;00m\u001b[39m{\u001b[39;00m\u001b[39mself\u001b[39m\u001b[39m.\u001b[39mscratchpad\u001b[39m}\u001b[39;00m\u001b[39m\\n\u001b[39;00m\u001b[39mFinal Answer:\u001b[39m\u001b[39m\"\u001b[39m\n\u001b[1;32m--> 134\u001b[0m result \u001b[39m=\u001b[39m generate_text(prompt, model\u001b[39m=\u001b[39;49mgpt4_model, messages\u001b[39m=\u001b[39;49m[system_message])\n\u001b[0;32m    135\u001b[0m \u001b[39mreturn\u001b[39;00m result\n",
      "File \u001b[1;32mc:\\Users\\Volrath\\AppData\\Local\\Programs\\Python\\Python310\\lib\\site-packages\\tenacity\\__init__.py:289\u001b[0m, in \u001b[0;36mBaseRetrying.wraps.<locals>.wrapped_f\u001b[1;34m(*args, **kw)\u001b[0m\n\u001b[0;32m    287\u001b[0m \u001b[39m@functools\u001b[39m\u001b[39m.\u001b[39mwraps(f)\n\u001b[0;32m    288\u001b[0m \u001b[39mdef\u001b[39;00m \u001b[39mwrapped_f\u001b[39m(\u001b[39m*\u001b[39margs: t\u001b[39m.\u001b[39mAny, \u001b[39m*\u001b[39m\u001b[39m*\u001b[39mkw: t\u001b[39m.\u001b[39mAny) \u001b[39m-\u001b[39m\u001b[39m>\u001b[39m t\u001b[39m.\u001b[39mAny:\n\u001b[1;32m--> 289\u001b[0m     \u001b[39mreturn\u001b[39;00m \u001b[39mself\u001b[39m(f, \u001b[39m*\u001b[39margs, \u001b[39m*\u001b[39m\u001b[39m*\u001b[39mkw)\n",
      "File \u001b[1;32mc:\\Users\\Volrath\\AppData\\Local\\Programs\\Python\\Python310\\lib\\site-packages\\tenacity\\__init__.py:379\u001b[0m, in \u001b[0;36mRetrying.__call__\u001b[1;34m(self, fn, *args, **kwargs)\u001b[0m\n\u001b[0;32m    377\u001b[0m retry_state \u001b[39m=\u001b[39m RetryCallState(retry_object\u001b[39m=\u001b[39m\u001b[39mself\u001b[39m, fn\u001b[39m=\u001b[39mfn, args\u001b[39m=\u001b[39margs, kwargs\u001b[39m=\u001b[39mkwargs)\n\u001b[0;32m    378\u001b[0m \u001b[39mwhile\u001b[39;00m \u001b[39mTrue\u001b[39;00m:\n\u001b[1;32m--> 379\u001b[0m     do \u001b[39m=\u001b[39m \u001b[39mself\u001b[39;49m\u001b[39m.\u001b[39;49miter(retry_state\u001b[39m=\u001b[39;49mretry_state)\n\u001b[0;32m    380\u001b[0m     \u001b[39mif\u001b[39;00m \u001b[39misinstance\u001b[39m(do, DoAttempt):\n\u001b[0;32m    381\u001b[0m         \u001b[39mtry\u001b[39;00m:\n",
      "File \u001b[1;32mc:\\Users\\Volrath\\AppData\\Local\\Programs\\Python\\Python310\\lib\\site-packages\\tenacity\\__init__.py:326\u001b[0m, in \u001b[0;36mBaseRetrying.iter\u001b[1;34m(self, retry_state)\u001b[0m\n\u001b[0;32m    324\u001b[0m     \u001b[39mif\u001b[39;00m \u001b[39mself\u001b[39m\u001b[39m.\u001b[39mreraise:\n\u001b[0;32m    325\u001b[0m         \u001b[39mraise\u001b[39;00m retry_exc\u001b[39m.\u001b[39mreraise()\n\u001b[1;32m--> 326\u001b[0m     \u001b[39mraise\u001b[39;00m retry_exc \u001b[39mfrom\u001b[39;00m \u001b[39mfut\u001b[39;00m\u001b[39m.\u001b[39;00m\u001b[39mexception\u001b[39;00m()\n\u001b[0;32m    328\u001b[0m \u001b[39mif\u001b[39;00m \u001b[39mself\u001b[39m\u001b[39m.\u001b[39mwait:\n\u001b[0;32m    329\u001b[0m     sleep \u001b[39m=\u001b[39m \u001b[39mself\u001b[39m\u001b[39m.\u001b[39mwait(retry_state)\n",
      "\u001b[1;31mRetryError\u001b[0m: RetryError[<Future at 0x2320f872380 state=finished raised TypeError>]"
     ]
    }
   ],
   "source": [
    "from agents.agent import Agent\n",
    "from agents.tools.fs.search_directory import SearchDirectory\n",
    "from agents.tools.fs.list_directory import ListDirectory\n",
    "\n",
    "# Instantiate the tool objects\n",
    "search_directory_tool = SearchDirectory()\n",
    "list_directory_tool = ListDirectory()\n",
    "\n",
    "# Create a list of tools\n",
    "tools = [search_directory_tool, list_directory_tool]\n",
    "\n",
    "# Instantiate the agent\n",
    "agent = Agent(tools)\n",
    "\n",
    "# Execute a chain of thoughts with a specific goal\n",
    "goal = \"List the files and folders in the root directory\"\n",
    "result = agent.execute_chain_of_thought(goal)\n",
    "print(result)"
   ]
  }
 ],
 "metadata": {
  "kernelspec": {
   "display_name": ".venv",
   "language": "python",
   "name": "python3"
  },
  "language_info": {
   "codemirror_mode": {
    "name": "ipython",
    "version": 3
   },
   "file_extension": ".py",
   "mimetype": "text/x-python",
   "name": "python",
   "nbconvert_exporter": "python",
   "pygments_lexer": "ipython3",
   "version": "3.10.6"
  },
  "orig_nbformat": 4
 },
 "nbformat": 4,
 "nbformat_minor": 2
}

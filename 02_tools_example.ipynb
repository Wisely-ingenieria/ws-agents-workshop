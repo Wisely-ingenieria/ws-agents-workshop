{
 "cells": [
  {
   "cell_type": "markdown",
   "metadata": {},
   "source": [
    "# Tools"
   ]
  },
  {
   "cell_type": "markdown",
   "metadata": {},
   "source": [
    "## 1.- Setup inicial"
   ]
  },
  {
   "cell_type": "markdown",
   "metadata": {},
   "source": [
    "### 1.1- Instalar librerías "
   ]
  },
  {
   "cell_type": "code",
   "execution_count": 4,
   "metadata": {},
   "outputs": [],
   "source": [
    "# Instalar librerías\n",
    "#!pip install openai\n",
    "#!pip install tenacity\n",
    "#!pip install python-dotenv\n",
    "#!spacy download es_core_news_sm"
   ]
  },
  {
   "cell_type": "markdown",
   "metadata": {},
   "source": [
    "### 1.2.- Cargar librerías"
   ]
  },
  {
   "cell_type": "code",
   "execution_count": 5,
   "metadata": {},
   "outputs": [],
   "source": [
    "import os\n",
    "import json\n",
    "import openai\n",
    "import datetime\n",
    "from dotenv import load_dotenv\n",
    "from typing import Callable, List\n",
    "from tenacity import retry, wait_random_exponential, stop_after_attempt"
   ]
  },
  {
   "cell_type": "markdown",
   "metadata": {},
   "source": [
    "### 1.3.- OpenAI API"
   ]
  },
  {
   "cell_type": "code",
   "execution_count": 6,
   "metadata": {},
   "outputs": [
    {
     "name": "stdout",
     "output_type": "stream",
     "text": [
      "OpenAI API key: sk-eO...Re5lw\n",
      "GPT-3.5-Turbo model: gpt-3.5-turbo\n",
      "GPT-3.5-Turbo-16k model: gpt-3.5-turbo-16k\n",
      "GPT-4 model: gpt-4\n"
     ]
    }
   ],
   "source": [
    "# Cargar secretos y configuración desde el archivo .env\n",
    "load_dotenv()\n",
    "\n",
    "# Configurar la clave de la API de OpenAI\n",
    "openai.api_key = os.getenv(\"OPENAI_API_KEY\")\n",
    "embedding_model = os.getenv(\"OPENAI_EMBEDDING_MODEL\")\n",
    "print(\"OpenAI API key: {}\".format(openai.api_key[:5] + '...' + openai.api_key[-5:]))\n",
    "\n",
    "# Nombres de los modelos\n",
    "gpt35_model = os.getenv(\"OPENAI_GPT35_MODEL\")\n",
    "gpt35_16k_model = os.getenv(\"OPENAI_GPT35_16K_MODEL\")\n",
    "gpt4_model = os.getenv(\"OPENAI_GPT4_MODEL\")\n",
    "print(\"GPT-3.5-Turbo model: {}\".format(gpt35_model))\n",
    "print(\"GPT-3.5-Turbo-16k model: {}\".format(gpt35_16k_model))\n",
    "print(\"GPT-4 model: {}\".format(gpt4_model))"
   ]
  },
  {
   "cell_type": "markdown",
   "metadata": {},
   "source": [
    "### 1.4.- Importar clase Tools"
   ]
  },
  {
   "cell_type": "code",
   "execution_count": 7,
   "metadata": {},
   "outputs": [],
   "source": [
    "from agents.tools import Tool, Parameter"
   ]
  },
  {
   "cell_type": "markdown",
   "metadata": {},
   "source": [
    "### 1.5.- Definir funciones útiles"
   ]
  },
  {
   "cell_type": "code",
   "execution_count": 8,
   "metadata": {},
   "outputs": [],
   "source": [
    "@retry(wait=wait_random_exponential(min=1, max=20), stop=stop_after_attempt(3))\n",
    "def generate_text(prompt, model=gpt35_model, messages=[], max_tokens=200, temperature=1.0, top_p=1.0, frequency_penalty=0.0, presence_penalty=0.0, stop=None):\n",
    "    _messages = []\n",
    "    _messages.extend(messages)\n",
    "    _messages.append({\"role\": \"user\", \"content\": prompt})\n",
    "\n",
    "    response = openai.ChatCompletion.create(\n",
    "        model=model,\n",
    "        messages=_messages,\n",
    "        max_tokens=max_tokens,\n",
    "        temperature=temperature,\n",
    "        top_p=top_p,\n",
    "        frequency_penalty=frequency_penalty,\n",
    "        presence_penalty=presence_penalty,\n",
    "        stop=stop\n",
    "    )\n",
    "    return response[\"choices\"][0][\"message\"][\"content\"]"
   ]
  },
  {
   "cell_type": "code",
   "execution_count": 9,
   "metadata": {},
   "outputs": [],
   "source": [
    "@retry(wait=wait_random_exponential(min=1, max=20), stop=stop_after_attempt(3))\n",
    "def generate_text_with_function_call(prompt, model=gpt35_16k_model, messages=[], functions=[], max_tokens=-1, temperature=1.0, top_p=1.0, frequency_penalty=0.0, presence_penalty=0.0, stop=None, function_call='auto'):\n",
    "    _messages = []\n",
    "    _messages.extend(messages)\n",
    "    _messages.append({\"role\": \"user\", \"content\": prompt})\n",
    "    \n",
    "    if max_tokens == -1:\n",
    "        max_tokens = None\n",
    "\n",
    "    response = openai.ChatCompletion.create(\n",
    "        model=model,\n",
    "        messages=_messages,\n",
    "        functions=functions,\n",
    "        max_tokens=max_tokens,\n",
    "        temperature=temperature,\n",
    "        top_p=top_p,\n",
    "        frequency_penalty=frequency_penalty,\n",
    "        presence_penalty=presence_penalty,\n",
    "        stop=stop,\n",
    "        function_call=function_call\n",
    "    )\n",
    "    \n",
    "    if \"function_call\" in response[\"choices\"][0][\"message\"]:\n",
    "        return response[\"choices\"][0][\"message\"][\"function_call\"]\n",
    "    else:\n",
    "        return None"
   ]
  },
  {
   "cell_type": "markdown",
   "metadata": {},
   "source": [
    "## 2.- Ejemplo Function Calling"
   ]
  },
  {
   "cell_type": "markdown",
   "metadata": {},
   "source": [
    "### 2.1 Suma de números o concatenación de strings"
   ]
  },
  {
   "cell_type": "markdown",
   "metadata": {},
   "source": [
    "#### 2.1.1 Definición de funciones"
   ]
  },
  {
   "cell_type": "code",
   "execution_count": 10,
   "metadata": {},
   "outputs": [],
   "source": [
    "def sumar(a: int, b: int) -> int:\n",
    "    return a + b\n",
    "\n",
    "def concatenar_strings(s1: str, s2: str) -> str:\n",
    "    return s1 + s2"
   ]
  },
  {
   "cell_type": "markdown",
   "metadata": {},
   "source": [
    "#### 2.1.2 Instanciar funciones como Tools"
   ]
  },
  {
   "cell_type": "code",
   "execution_count": 11,
   "metadata": {},
   "outputs": [],
   "source": [
    "sumar_tool = Tool(\n",
    "    name=\"sumar\",\n",
    "    func=sumar,\n",
    "    description=\"Esta función recibe dos números enteros como entrada y devuelve la suma de estos dos números.\",\n",
    "    arguments=[\n",
    "        Parameter(name=\"Sumando 1\", description=\"Primer número\", type=int, required=True),\n",
    "        Parameter(name=\"Sumando 2\", description=\"Segundo número\", type=int, required=True)\n",
    "    ]\n",
    ")\n",
    "\n",
    "concatenar_tool = Tool(\n",
    "    name=\"concatenar_strings\",\n",
    "    func=concatenar_strings,\n",
    "    description=\"Esta función toma dos palabras como entrada y las combina en una sola cadena de texto, sin agregar espacios ni caracteres adicionales.\",\n",
    "    arguments=[\n",
    "        Parameter(name=\"String 1\", description=\"Primera cadena\", type=str, required=True),\n",
    "        Parameter(name=\"String 2\", description=\"Segunda cadena\", type=str, required=True)\n",
    "    ]\n",
    ")\n",
    "\n",
    "#Definir lista de tools\n",
    "tools1 = [sumar_tool, concatenar_tool]"
   ]
  },
  {
   "cell_type": "markdown",
   "metadata": {},
   "source": [
    "#### 2.1.3 Ejemplos de uso"
   ]
  },
  {
   "cell_type": "markdown",
   "metadata": {},
   "source": [
    "#### Sumar números"
   ]
  },
  {
   "cell_type": "code",
   "execution_count": 12,
   "metadata": {},
   "outputs": [],
   "source": [
    "input1 = \"Sumar los números 5 y 7\""
   ]
  },
  {
   "cell_type": "markdown",
   "metadata": {},
   "source": [
    "##### Llamada al modelo"
   ]
  },
  {
   "cell_type": "code",
   "execution_count": 13,
   "metadata": {},
   "outputs": [
    {
     "name": "stdout",
     "output_type": "stream",
     "text": [
      "{\n",
      "  \"name\": \"sumar\",\n",
      "  \"arguments\": \"{\\n  \\\"Sumando 1\\\": 5,\\n  \\\"Sumando 2\\\": 7\\n}\"\n",
      "}\n"
     ]
    }
   ],
   "source": [
    "function_calling1 = generate_text_with_function_call(prompt = input1, model = gpt35_16k_model, functions = [sumar_tool.get_schema(), concatenar_tool.get_schema()])\n",
    "print(function_calling1)"
   ]
  },
  {
   "cell_type": "markdown",
   "metadata": {},
   "source": [
    "##### Se ejecuta la función"
   ]
  },
  {
   "cell_type": "code",
   "execution_count": 14,
   "metadata": {},
   "outputs": [
    {
     "name": "stdout",
     "output_type": "stream",
     "text": [
      "El resultado es: 12\n"
     ]
    }
   ],
   "source": [
    "name1, arguments1 = function_calling1.values()\n",
    "sum1, sum2 = json.loads(arguments1).values()\n",
    "for tool in tools1:\n",
    "    if name1 == tool.name:\n",
    "        result = tool.execute(sum1, sum2)\n",
    "        print(f'El resultado es: {result}')"
   ]
  },
  {
   "cell_type": "markdown",
   "metadata": {},
   "source": [
    "---------------------------------------------------------------------------------------------------------------------------------------------------------"
   ]
  },
  {
   "cell_type": "markdown",
   "metadata": {},
   "source": [
    "#### Sumar strings"
   ]
  },
  {
   "cell_type": "code",
   "execution_count": 15,
   "metadata": {},
   "outputs": [],
   "source": [
    "input2 = 'Une estas palabras: \"hola\" y \"mundo\"'"
   ]
  },
  {
   "cell_type": "markdown",
   "metadata": {},
   "source": [
    "##### Llamada al modelo"
   ]
  },
  {
   "cell_type": "code",
   "execution_count": 16,
   "metadata": {},
   "outputs": [
    {
     "name": "stdout",
     "output_type": "stream",
     "text": [
      "{\n",
      "  \"name\": \"concatenar_strings\",\n",
      "  \"arguments\": \"{\\n  \\\"String 1\\\": \\\"hola\\\",\\n  \\\"String 2\\\": \\\"mundo\\\"\\n}\"\n",
      "}\n"
     ]
    }
   ],
   "source": [
    "function_calling2 = generate_text_with_function_call(prompt = input2, model = gpt35_16k_model, functions = [sumar_tool.get_schema(), concatenar_tool.get_schema()])\n",
    "print(function_calling2)"
   ]
  },
  {
   "cell_type": "markdown",
   "metadata": {},
   "source": [
    "##### Se ejecuta la función"
   ]
  },
  {
   "cell_type": "code",
   "execution_count": 17,
   "metadata": {},
   "outputs": [
    {
     "name": "stdout",
     "output_type": "stream",
     "text": [
      "El resultado es: holamundo\n"
     ]
    }
   ],
   "source": [
    "name2, arguments2 = function_calling2.values()\n",
    "arg1, arg2 = json.loads(arguments2).values()\n",
    "for tool in tools1:\n",
    "    if name2 == tool.name:\n",
    "        result = tool.execute(arg1, arg2)\n",
    "        print(f'El resultado es: {result}')"
   ]
  },
  {
   "cell_type": "markdown",
   "metadata": {},
   "source": [
    "## 3.- Ejemplo de Prompting para replicar Function Calling"
   ]
  },
  {
   "cell_type": "markdown",
   "metadata": {},
   "source": [
    "### 3.1 Operaciones con números"
   ]
  },
  {
   "cell_type": "markdown",
   "metadata": {},
   "source": [
    "#### 3.1.1 Definición de funciones"
   ]
  },
  {
   "cell_type": "code",
   "execution_count": 18,
   "metadata": {},
   "outputs": [],
   "source": [
    "# Funciones\n",
    "def sumar(a: int, b: int) -> int:\n",
    "    return a + b\n",
    "\n",
    "def multiplicar(a: int, b: int) -> int:\n",
    "    return a * b\n",
    "\n",
    "def restar(a: int, b: int) -> int:\n",
    "    return a - b\n",
    "\n",
    "def al_cuadrado(numero: int) -> int:\n",
    "    return numero * numero"
   ]
  },
  {
   "cell_type": "markdown",
   "metadata": {},
   "source": [
    "#### 3.1.2 Instanciar funciones como Tools"
   ]
  },
  {
   "cell_type": "code",
   "execution_count": 19,
   "metadata": {},
   "outputs": [],
   "source": [
    "# Crear instancias de la clase Tool para cada función\n",
    "sumar_tool = Tool(\n",
    "    name=\"sumar\",\n",
    "    func=sumar,\n",
    "    description=\"Sumar dos números\",\n",
    "    arguments=[\n",
    "        Parameter(name=\"a\", description=\"Primer número\", type=int, required=True),\n",
    "        Parameter(name=\"b\", description=\"Segundo número\", type=int, required=True)\n",
    "    ]\n",
    ")\n",
    "\n",
    "multiplicar_tool = Tool(\n",
    "    name=\"multiplicar\",\n",
    "    func=multiplicar,\n",
    "    description=\"Multiplicar dos números\",\n",
    "    arguments=[\n",
    "        Parameter(name=\"a\", description=\"Primer número\", type=int, required=True),\n",
    "        Parameter(name=\"b\", description=\"Segundo número\", type=int, required=True)\n",
    "    ]\n",
    ")\n",
    "\n",
    "restar_tool = Tool(\n",
    "    name=\"restar\",\n",
    "    func=restar,\n",
    "    description=\"Restar dos números\",\n",
    "    arguments=[\n",
    "        Parameter(name=\"a\", description=\"Primer número\", type=int, required=True),\n",
    "        Parameter(name=\"b\", description=\"Segundo número\", type=int, required=True)\n",
    "    ]\n",
    ")\n",
    "\n",
    "cuadrado_tool = Tool(\n",
    "    name=\"al_cuadrado\",\n",
    "    func=al_cuadrado,\n",
    "    description=\"Calcular el cuadrado de un número\",\n",
    "    arguments=[\n",
    "        Parameter(name=\"numero\", description=\"Número para elevar al cuadrado\", type=int, required=True)\n",
    "    ]\n",
    ")\n",
    "\n",
    "# Definir lista de herramientas\n",
    "tools2 = [sumar_tool, multiplicar_tool, restar_tool, cuadrado_tool]"
   ]
  },
  {
   "cell_type": "markdown",
   "metadata": {},
   "source": [
    "#### 3.1.3 Técnicas de prompting"
   ]
  },
  {
   "cell_type": "markdown",
   "metadata": {},
   "source": [
    "#### Prompt"
   ]
  },
  {
   "cell_type": "code",
   "execution_count": 20,
   "metadata": {},
   "outputs": [],
   "source": [
    "prompt_principal = \"Suma 4 y 2, luego el resultado multiplícalo por 2\""
   ]
  },
  {
   "cell_type": "markdown",
   "metadata": {},
   "source": [
    "#### Esquema de funciones"
   ]
  },
  {
   "cell_type": "code",
   "execution_count": 21,
   "metadata": {},
   "outputs": [],
   "source": [
    "functions = [sumar_tool.get_schema(), multiplicar_tool.get_schema(), restar_tool.get_schema(), cuadrado_tool.get_schema()]"
   ]
  },
  {
   "cell_type": "markdown",
   "metadata": {},
   "source": [
    "#### Zero Shot"
   ]
  },
  {
   "cell_type": "code",
   "execution_count": 22,
   "metadata": {},
   "outputs": [
    {
     "name": "stdout",
     "output_type": "stream",
     "text": [
      "Para realizar la operación que mencionaste, podemos utilizar las funciones \"sumar\" y \"multiplicar\" que tenemos disponibles.\n",
      "\n",
      "Primero, vamos a sumar 4 y 2 utilizando la función \"sumar\":\n",
      "\n",
      "```\n",
      "sumar(4, 2)\n",
      "```\n",
      "\n",
      "Esto nos dará como resultado 6.\n",
      "\n",
      "Luego, vamos a multiplicar el resultado obtenido por 2 utilizando la función \"multiplicar\":\n",
      "\n",
      "```\n",
      "multiplicar(6, 2)\n",
      "```\n",
      "\n",
      "Esto nos dará como resultado 12.\n",
      "\n",
      "Por lo tanto, la respuesta es 12.\n"
     ]
    }
   ],
   "source": [
    "system_message = {\n",
    "    \"role\": \"system\", \"content\": \"Considera la prompt. Evalúa las acciones que se describen y según eso y basado en la descripción de las <FUNCIONES> que te adjuntaré, determina qué función es necesario utilizar y extrae los parámetros necesarios. Retorna solo la función y los parámetros.\",\n",
    "    \"role\": \"system\", \"content\": f\"<FUNCIONES> {functions}\",\n",
    "}\n",
    "print(generate_text(prompt_principal, messages=[system_message], model=gpt35_16k_model))"
   ]
  },
  {
   "cell_type": "markdown",
   "metadata": {},
   "source": [
    "#### Few Shot"
   ]
  },
  {
   "cell_type": "code",
   "execution_count": 23,
   "metadata": {},
   "outputs": [
    {
     "name": "stdout",
     "output_type": "stream",
     "text": [
      "función: \"sumar\", a: 4, b: 2. Luego, función: \"multiplicar\", a: (resultado (4 + 2)), b: 2. Resultado: 12\n"
     ]
    }
   ],
   "source": [
    "system_message = { \"role\": \"system\", \"content\": f\"<FUNCIONES> {functions}\"}\n",
    "prompt = f\"\"\"3 veces 5, más 4. // función: \"multiplicar\", a:3, b:5. Luego, función: \"sumar\", a: (resultado (3 * 5)), b: 4. Resultado: 19  \n",
    "Tres al cuadrado, menos 6. // función: \"al_cuadrado\", numero:3. Luego, función: \"restar\", a: (resultado (3 * 3)), b: 6. Resultado: 3\n",
    "Seis más cinco, menos 7 // función: \"sumar\", a: 6, b: 5. Luego, función: \"restar\", a: (resultado (6+5)), b: 7. Resultado: 4\n",
    "{prompt_principal}. // \"\"\"\n",
    "print(generate_text(prompt, messages=[system_message], model=gpt35_16k_model))"
   ]
  },
  {
   "cell_type": "markdown",
   "metadata": {},
   "source": [
    "#### Chain of Thought"
   ]
  },
  {
   "cell_type": "code",
   "execution_count": 32,
   "metadata": {},
   "outputs": [
    {
     "name": "stdout",
     "output_type": "stream",
     "text": [
      "Pregunta Intermedia: Hay alguna o más de una palabra en la prompt que haga alusión a alguna de las <FUNCIONES>?\n",
      "Respuesta Intermedia: Sí, \"suma\" se relaciona con la función \"sumar\" y \"multiplica\" se relaciona con la función \"multiplicar\".\n",
      "Pregunta Intermedia: Hay alguna otra palabra o acción relacionada con las <FUNCIONES>?\n",
      "Respuesta Intermedia: Sí, \"multiplícalo\" se relaciona con la función \"multiplicar\".\n",
      "Pregunta Intermedia: De acuerdo al orden de prioridad de las operaciones matemáticas, (1) Paréntesis > (2) Potencias > (3) Multiplicación > (4) División > (5) Adición (Suma) > (6) Sustracción (Resta), cuál operación se realiza primero?\n",
      "Respuesta Intermedia: La Multiplicación tiene mayor prioridad que la Suma.\n",
      "Pregunta Intermedia: Cuántos argumentos recibe la función \"sumar\"?\n",
      "Respuesta Intermedia: a: int, b: int\n",
      "Pregunta Intermedia: En la prompt (P) hay dos int, cuáles son?\n",
      "Respuesta Intermedia: Sí, 4 y 2 son valores int.\n",
      "Pregunta Intermedia: Entonces, qué función hay que realizar ahora y cuáles son los argumentos?\n",
      "Respuesta Intermedia: Función: \"sumar\", a: 4, b: 2.\n",
      "Pregunta Intermedia: Cuántos argumentos recibe la función \"multiplicar\"?\n",
      "Respuesta Intermedia: a: int, b: int\n",
      "Pregunta Intermedia: Cuál es el resultado de la función \"sumar\"?\n",
      "Respuesta Intermedia: El resultado de la suma de 4 y 2 es 6.\n",
      "Pregunta Intermedia: Entonces, qué función hay que realizar ahora y cuáles son los argumentos?\n",
      "Respuesta Intermedia: Función: \"multiplicar\", a: 6, b: 2.\n",
      "Respuesta Final: Primero la función \"sumar\", a: 4, b: 2. El resultado es 6. Luego, la función \"multiplicar\", a: 6, b: 2. El resultado final es 12.\n"
     ]
    }
   ],
   "source": [
    "system_message = { \"role\": \"system\", \"content\": f\"<FUNCIONES> {functions}\"}\n",
    "\n",
    "prompt = f\"\"\"P: Ocho menos dos al cuadrado.\n",
    "Pregunta Intermedia: Hay alguna o más de una palabra en la prompt que haga alusión a alguna de las <FUNCIONES>?\n",
    "Respuesta Intermedia: Sí, al cuadrado está directamente relacionada con una de las funciones. Y 'menos' se puede relacionar con la función \"restar\".\n",
    "Pregunta Intermedia: Hay alguna otra palabra o acción relacionada con las <FUNCIONES>?\n",
    "Respuesta Intermedia: No\n",
    "Pregunta Intermedia: De acuerdo al orden de prioridad de las operaciones matemáticas, (1) Paréntesis > (2) Potencias > (3) Multiplicación > (4) División > (5) Adición (Suma) > (6) Sustracción (Resta), cuál operación se realiza primero?\n",
    "Respuesta Intermedia: La Potencia (\"al cuadrado\") tiene mayor prioridad que la Resta (\"restar\")\n",
    "Pregunta Intermedia: Qué número está asociado a la operación de \"al_cuadrado\"\n",
    "Respuesta Intermedia: \"dos\" es equivalente a 2 y está justo antes de \"al cuadrado\". Entonces, Función: \"al_cuadrado\", numero: 2.\n",
    "Pregunta Intermedia: Qué función corresponde ahora?\n",
    "Respuesta Intermedia: \"restar\".\n",
    "Pregunta Intermedia: Cuántos argumentos recibe la función \"restar\"?\n",
    "Respuesta Intermedia: a: int, b: int\n",
    "Pregunta Intermedia: En la prompt (P) podemos identificar dos int, cuáles?\n",
    "Respuesta Intermedia: Sí, ocho: equivalente a 8, y (dos al cuadrado), que resolvimos antes\n",
    "Pregunta Intermedia: Entonces, qué función hay que realizar ahora y cuáles son los argumentos?\n",
    "Respuesta Intermedia: Función: \"restar\", a: 8, b: (2 al cuadrado)\n",
    "Respuesta Final: Primero la función: \"al cuadrado\", numero: 2 -> Resultado: 4. Luego, \"restar\", a: 8, b: 4 -> Resultado final: 4\n",
    "\n",
    "P: {prompt_principal}\n",
    "\"\"\"\n",
    "print(generate_text(prompt, messages = [system_message], max_tokens=500))"
   ]
  }
 ],
 "metadata": {
  "kernelspec": {
   "display_name": "Python 3 (ipykernel)",
   "language": "python",
   "name": "python3"
  },
  "language_info": {
   "codemirror_mode": {
    "name": "ipython",
    "version": 3
   },
   "file_extension": ".py",
   "mimetype": "text/x-python",
   "name": "python",
   "nbconvert_exporter": "python",
   "pygments_lexer": "ipython3",
   "version": "3.11.6"
  }
 },
 "nbformat": 4,
 "nbformat_minor": 4
}

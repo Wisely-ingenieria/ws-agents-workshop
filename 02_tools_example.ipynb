{
 "cells": [
  {
   "cell_type": "markdown",
   "metadata": {},
   "source": [
    "# Tools"
   ]
  },
  {
   "cell_type": "markdown",
   "metadata": {},
   "source": [
    "## 1.- Setup inicial"
   ]
  },
  {
   "cell_type": "markdown",
   "metadata": {},
   "source": [
    "### 1.1- Instalar librerías "
   ]
  },
  {
   "cell_type": "code",
   "execution_count": null,
   "metadata": {},
   "outputs": [],
   "source": [
    "#! pip install -r requirements.txt"
   ]
  },
  {
   "cell_type": "markdown",
   "metadata": {},
   "source": [
    "### 1.2.- Cargar librerías"
   ]
  },
  {
   "cell_type": "code",
   "execution_count": null,
   "metadata": {},
   "outputs": [],
   "source": [
    "import os\n",
    "import json\n",
    "import openai\n",
    "from dotenv import load_dotenv\n",
    "\n",
    "from agents.tools import Tool, Parameter\n",
    "from llm import generate_text, generate_text_with_function_call"
   ]
  },
  {
   "cell_type": "markdown",
   "metadata": {},
   "source": [
    "### 1.3.- OpenAI API"
   ]
  },
  {
   "cell_type": "code",
   "execution_count": null,
   "metadata": {},
   "outputs": [],
   "source": [
    "# Cargar secretos y configuración desde el archivo .env\n",
    "load_dotenv()\n",
    "\n",
    "# Configurar la clave de la API de OpenAI\n",
    "openai.api_key = os.getenv(\"OPENAI_API_KEY\")\n",
    "embedding_model = os.getenv(\"OPENAI_EMBEDDING_MODEL\")\n",
    "print(\"OpenAI API key: {}\".format(openai.api_key[:5] + '...' + openai.api_key[-5:]))\n",
    "\n",
    "# Nombres de los modelos\n",
    "gpt35_model = os.getenv(\"OPENAI_GPT35_MODEL\")\n",
    "gpt35_16k_model = os.getenv(\"OPENAI_GPT35_16K_MODEL\")\n",
    "gpt4_model = os.getenv(\"OPENAI_GPT4_MODEL\")\n",
    "print(\"GPT-3.5-Turbo model: {}\".format(gpt35_model))\n",
    "print(\"GPT-3.5-Turbo-16k model: {}\".format(gpt35_16k_model))\n",
    "print(\"GPT-4 model: {}\".format(gpt4_model))"
   ]
  },
  {
   "cell_type": "markdown",
   "metadata": {},
   "source": [
    "### 1.4.- Funcion para ejecutar Tools"
   ]
  },
  {
   "cell_type": "code",
   "execution_count": null,
   "metadata": {},
   "outputs": [],
   "source": [
    "def use_tool(tools, input_json):\n",
    "    func_name = input_json.get(\"name\", \"\")\n",
    "    if not func_name:\n",
    "        return \"ERROR: Unable to parse tool function from action input.\"\n",
    "    args_dict = input_json.get(\"arguments\", {})\n",
    "    if not args_dict:\n",
    "        return \"ERROR: Unable to parse tool arguments from action input.\"\n",
    "\n",
    "    if isinstance(args_dict, str):\n",
    "        try:\n",
    "            args_dict = json.loads(args_dict)\n",
    "        except Exception as e:\n",
    "            return f\"ERROR: Unable to parse tool arguments from action input: {e}\"\n",
    "\n",
    "    tool = None\n",
    "    for t in tools:\n",
    "        if t.func.__name__ == func_name:\n",
    "            tool = t\n",
    "            break\n",
    "    if not tool:\n",
    "        return f\"ERROR: No tool found with func_name '{func_name}'\"\n",
    "    \n",
    "    try:\n",
    "        result = tool.execute(**args_dict)\n",
    "    except Exception as e:\n",
    "        return f\"ERROR: Failed executing {func_name}: {e}\"\n",
    "\n",
    "    return result"
   ]
  },
  {
   "cell_type": "markdown",
   "metadata": {},
   "source": [
    "## 2.- Como declarar, seleccionar y ejecutar Tools"
   ]
  },
  {
   "cell_type": "markdown",
   "metadata": {},
   "source": [
    "### 2.1.- Funciones a ejectuar"
   ]
  },
  {
   "cell_type": "code",
   "execution_count": null,
   "metadata": {},
   "outputs": [],
   "source": [
    "# Funciones\n",
    "def sumar(a: int, b: int) -> int:\n",
    "    return a + b\n",
    "\n",
    "def multiplicar(a: int, b: int) -> int:\n",
    "    return a * b\n",
    "\n",
    "def restar(a: int, b: int) -> int:\n",
    "    return a - b"
   ]
  },
  {
   "cell_type": "code",
   "execution_count": null,
   "metadata": {},
   "outputs": [],
   "source": [
    "sumar(12,7)"
   ]
  },
  {
   "cell_type": "markdown",
   "metadata": {},
   "source": [
    "### 2.2.- Instanciar clases de Tools"
   ]
  },
  {
   "cell_type": "code",
   "execution_count": null,
   "metadata": {},
   "outputs": [],
   "source": [
    "sumar_tool = Tool(\n",
    "    name=\"sumar\",\n",
    "    func=sumar,\n",
    "    description=\"Sumar dos números\",\n",
    "    arguments=[\n",
    "        Parameter(name=\"a\", description=\"Primer número\", type=int, required=True),\n",
    "        Parameter(name=\"b\", description=\"Segundo número\", type=int, required=True)\n",
    "    ]\n",
    ")\n",
    "\n",
    "multiplicar_tool = Tool(\n",
    "    name=\"multiplicar\",\n",
    "    func=multiplicar,\n",
    "    description=\"Multiplicar dos números\",\n",
    "    arguments=[\n",
    "        Parameter(name=\"a\", description=\"Primer número\", type=int, required=True),\n",
    "        Parameter(name=\"b\", description=\"Segundo número\", type=int, required=True)\n",
    "    ]\n",
    ")\n",
    "\n",
    "restar_tool = Tool(\n",
    "    name=\"restar\",\n",
    "    func=restar,\n",
    "    description=\"Restar dos números\",\n",
    "    arguments=[\n",
    "        Parameter(name=\"a\", description=\"Primer número\", type=int, required=True),\n",
    "        Parameter(name=\"b\", description=\"Segundo número\", type=int, required=True)\n",
    "    ]\n",
    ")\n",
    "\n",
    "# Definir lista de herramientas y esquema\n",
    "tools = [sumar_tool, multiplicar_tool, restar_tool]\n",
    "tools_schema = [sumar_tool.get_schema(), multiplicar_tool.get_schema(), restar_tool.get_schema()]"
   ]
  },
  {
   "cell_type": "markdown",
   "metadata": {},
   "source": [
    "### 2.3.- Seleccion de tool con OpenAI Function Calling"
   ]
  },
  {
   "cell_type": "code",
   "execution_count": null,
   "metadata": {},
   "outputs": [],
   "source": [
    "input = \"Sumar los números 10 y 7\"\n",
    "output = generate_text_with_function_call(input,  functions = tools_schema)\n",
    "print(output)"
   ]
  },
  {
   "cell_type": "code",
   "execution_count": null,
   "metadata": {},
   "outputs": [],
   "source": [
    "use_tool(tools, output)"
   ]
  },
  {
   "cell_type": "markdown",
   "metadata": {},
   "source": [
    "### 2.4.- Seleccion de tool con prompting"
   ]
  },
  {
   "cell_type": "code",
   "execution_count": null,
   "metadata": {},
   "outputs": [],
   "source": [
    "system_message = {\n",
    "    \"role\": \"system\",\n",
    "    \"content\": \"Given the user <QUERY> and the available <FUNCTIONS>. Think of a way to solve the problem using the available functions. If none is needed reply with an empty JSON object {}. Otherwise, reply with a JSON object containing the name of the function to use and the arguments to pass to it. For example: {\\\"name\\\": \\\"function_name\\\", \\\"arguments\\\": {\\\"arg_1\\\": <value_arg1>, \\\"arg_2\\\": <value_arg2>}}\"\n",
    "}\n",
    "prompt = f\"<FUNCTIONS>\\n{tools_schema}\\n\\n<QUERY>\\n{input}\\n\\n<REPLY>\"\n",
    "output = generate_text(prompt, messages=[system_message])\n",
    "print(output)"
   ]
  },
  {
   "cell_type": "code",
   "execution_count": null,
   "metadata": {},
   "outputs": [],
   "source": [
    "use_tool(tools, json.loads(output))"
   ]
  }
 ],
 "metadata": {
  "kernelspec": {
   "display_name": "Python 3 (ipykernel)",
   "language": "python",
   "name": "python3"
  },
  "language_info": {
   "codemirror_mode": {
    "name": "ipython",
    "version": 3
   },
   "file_extension": ".py",
   "mimetype": "text/x-python",
   "name": "python",
   "nbconvert_exporter": "python",
   "pygments_lexer": "ipython3",
   "version": "3.10.6"
  }
 },
 "nbformat": 4,
 "nbformat_minor": 4
}
